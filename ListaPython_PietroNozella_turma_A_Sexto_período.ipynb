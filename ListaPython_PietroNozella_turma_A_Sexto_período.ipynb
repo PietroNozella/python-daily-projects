{
  "nbformat": 4,
  "nbformat_minor": 0,
  "metadata": {
    "colab": {
      "provenance": [],
      "authorship_tag": "ABX9TyMTsF7gTXP86M34M1lrV89v",
      "include_colab_link": true
    },
    "kernelspec": {
      "name": "python3",
      "display_name": "Python 3"
    },
    "language_info": {
      "name": "python"
    }
  },
  "cells": [
    {
      "cell_type": "markdown",
      "metadata": {
        "id": "view-in-github",
        "colab_type": "text"
      },
      "source": [
        "<a href=\"https://colab.research.google.com/github/PietroNozella/python-daily-projects/blob/main/ListaPython_PietroNozella_turma_A_Sexto_per%C3%ADodo.ipynb\" target=\"_parent\"><img src=\"https://colab.research.google.com/assets/colab-badge.svg\" alt=\"Open In Colab\"/></a>"
      ]
    },
    {
      "cell_type": "markdown",
      "source": [
        "1. Calculadora de Médias\n",
        "Enunciado: Crie um programa que calcule a média aritmética de uma lista de números fornecida pelo usuário. O programa deve permitir que o usuário insira quantos números desejar e, ao final, exibir a média dos números inseridos.\n"
      ],
      "metadata": {
        "id": "Cuvqm09CxggY"
      }
    },
    {
      "cell_type": "code",
      "source": [
        "# 1. Inicializa uma lista vazia para armazenar os números inseridos.\n",
        "numeros = []\n",
        "\n",
        "print(\"--- Calculadora de Média ---\")\n",
        "print(\"Digite os números um por um. Quando terminar, digite 'fim'.\")\n",
        "\n",
        "# 2. Cria um laço infinito que só será interrompido pelo usuário.\n",
        "while True:\n",
        "    # 3. Pede um dado ao usuário a cada iteração do laço.\n",
        "    entrada = input(\"Digite um número ou 'fim': \")\n",
        "\n",
        "    # 4. Verifica se o usuário quer parar. Usamos .lower() para aceitar 'fim', 'FIM', 'Fim', etc.\n",
        "    if entrada.lower() == 'fim':\n",
        "        break  # Interrompe o laço while.\n",
        "\n",
        "    # 5. Tenta converter a entrada para um número float.\n",
        "    try:\n",
        "        numero = float(entrada)\n",
        "        # 6. Se a conversão for bem-sucedida, adiciona o número à lista.\n",
        "        numeros.append(numero)\n",
        "    except ValueError:\n",
        "        # Se a conversão falhar, avisa o usuário e o laço continua.\n",
        "        print(\"Entrada inválida. Por favor, digite um número ou 'fim'.\")\n",
        "\n",
        "# 7. Após o laço, calcula a média.\n",
        "# Primeiro, verifica se a lista não está vazia para evitar divisão por zero.\n",
        "if len(numeros) > 0:\n",
        "    soma_dos_numeros = sum(numeros)\n",
        "    quantidade_de_numeros = len(numeros)\n",
        "    media = soma_dos_numeros / quantidade_de_numeros\n",
        "\n",
        "    # 8. Exibe o resultado final de forma clara.\n",
        "    print(\"\\n--- Resultado ---\")\n",
        "    print(f\"Os números inseridos foram: {numeros}\")\n",
        "    print(f\"A média dos {quantidade_de_numeros} números é: {media:.2f}\") # .2f formata para 2 casas decimais\n",
        "else:\n",
        "    # Caso o usuário não tenha inserido nenhum número.\n",
        "    print(\"\\nNenhum número foi inserido para calcular a média.\")"
      ],
      "metadata": {
        "id": "uF_-VUSuxz_D"
      },
      "execution_count": null,
      "outputs": []
    },
    {
      "cell_type": "markdown",
      "source": [
        "🔎 Resumo Pós-Código (Explicação Simples)\n",
        "\n",
        "Imagine que o programa é um \"coletor\". Ele primeiro pega uma cesta vazia, que é a nossa lista de números.\n",
        "\n",
        "Depois, ele entra em modo de repetição e fica te pedindo números, um de cada vez. A cada número que você digita, ele o converte para um formato numérico e o coloca dentro da cesta. Essa repetição só para quando você dá o sinal combinado, que é digitar a palavra \"fim\".\n",
        "\n",
        "Para ser inteligente, o programa tem uma \"rede de segurança\" (try/except). Se você digitar \"oi\" em vez de um número, ele não quebra; ele apenas avisa que a entrada é inválida e te pede um número novamente.\n",
        "\n",
        "Assim que você digita \"fim\", o coletor para. Ele então olha para a cesta, soma todos os números que guardou, divide pela quantidade de números que existem ali, e te mostra o resultado final, que é a média.\n",
        "\n",
        "💡 Conceitos-Chave Detalhados\n",
        "\n",
        "Laço while True com break: Padrão usado para criar um programa que executa repetidamente até que uma condição específica (o usuário digitar \"fim\") seja satisfeita.\n",
        "\n",
        "Listas (list): Coleções ordenadas e mutáveis. Ideais aqui porque podemos começar com uma lista vazia e adicionar elementos a ela (.append()) dinamicamente.\n",
        "\n",
        "Tratamento de Exceções (try...except ValueError): Um mecanismo de segurança. O try executa um código que \"pode falhar\". Se falhar com o erro ValueError (ex: float(\"abc\")), o programa não trava, mas executa o código no except.\n",
        "\n",
        "Funções Embutidas (sum() e len()): sum() soma todos os itens de uma lista de números. len() retorna quantos itens existem na lista. Elas simplificam muito o código.\n",
        "\n",
        "Conversão de Tipo (float()): A função input() sempre retorna texto. Para fazer contas, convertemos esse texto para um número de ponto flutuante (que aceita decimais)."
      ],
      "metadata": {
        "id": "RGn0hYuiyzyK"
      }
    },
    {
      "cell_type": "markdown",
      "source": [
        "2. Contador de Caracteres\n",
        "Enunciado: Desenvolva um script que conte quantas vezes cada caractere aparece em uma string fornecida pelo usuário. O programa deve ignorar espaços e diferenciar maiúsculas de minúsculas."
      ],
      "metadata": {
        "id": "HKT17zEIzEQO"
      }
    },
    {
      "cell_type": "code",
      "source": [
        "# 1. Pede ao usuário para inserir uma string.\n",
        "frase = input(\"Digite uma frase ou palavra: \")\n",
        "\n",
        "# 2. Inicializa um dicionário vazio para armazenar a contagem de cada caractere.\n",
        "contagem_caracteres = {}\n",
        "\n",
        "# 3. Itera sobre cada caractere na string fornecida.\n",
        "for caractere in frase:\n",
        "    # 4. Verifica se o caractere atual é um espaço em branco.\n",
        "    if caractere == ' ':\n",
        "        # Se for um espaço, pula para o próximo caractere sem fazer nada.\n",
        "        continue\n",
        "\n",
        "    # 5. Se o caractere não for um espaço, executa a lógica de contagem.\n",
        "    # Verifica se o caractere já existe como chave no dicionário.\n",
        "    if caractere in contagem_caracteres:\n",
        "        # Se já existe, aumenta seu valor (contador) em 1.\n",
        "        contagem_caracteres[caractere] += 1\n",
        "    else:\n",
        "        # Se não existe, cria a nova chave com o valor inicial 1.\n",
        "        contagem_caracteres[caractere] = 1\n",
        "\n",
        "# 6. Exibe o resultado final de forma organizada.\n",
        "print(\"\\n--- Contagem de Caracteres ---\")\n",
        "\n",
        "# Itera sobre os itens (chave, valor) do dicionário para exibi-los.\n",
        "for char, contagem in contagem_caracteres.items():\n",
        "    print(f\"O caractere '{char}' apareceu {contagem} vez(es).\")"
      ],
      "metadata": {
        "id": "zs1D-AmHzPpf"
      },
      "execution_count": null,
      "outputs": []
    },
    {
      "cell_type": "markdown",
      "source": [
        "🔎 Resumo Pós-Código (Explicação Simples)\n",
        "\n",
        "Pense no programa como um \"detetive de caracteres\". Primeiro, ele pede a você uma pista (a frase). Em seguida, ele pega uma prancheta vazia, que é o nosso dicionário.\n",
        "\n",
        "O detetive então olha cada caractere da sua frase, um por um. Se ele encontra um espaço, ele simplesmente o ignora e passa para o próximo.\n",
        "\n",
        "Para qualquer outro caractere (uma letra, um número, um ponto), ele olha para a prancheta e pergunta: \"Já anotei este aqui?\".\n",
        "\n",
        "Se a resposta for sim, ele apenas faz mais um \"risquinho\" na contagem daquele caractere.\n",
        "\n",
        "Se for não, ele escreve o caractere na prancheta e faz o primeiro \"risquinho\" ao lado dele.\n",
        "\n",
        "Quando ele termina de olhar todos os caracteres, ele te entrega a prancheta com o relatório final, mostrando exatamente quantas vezes cada caractere apareceu na sua pista.\n",
        "\n",
        "💡 Conceitos-Chave Detalhados\n",
        "\n",
        "Dicionário (dict): Novamente, a estrela do show. É a estrutura perfeita para associar um item único (o caractere) a um valor (sua contagem). A busca por chaves é extremamente rápida.\n",
        "\n",
        "Iterar sobre uma String: Em Python, for caractere in frase: é uma forma simples e legível de acessar cada caractere de uma string em sequência, sem precisar se preocupar com índices.\n",
        "\n",
        "Condicional if caractere == ' ': Uma verificação simples de igualdade. Usada aqui para implementar a regra de negócio de ignorar os espaços.\n",
        "\n",
        "Instrução continue: Um comando de controle de laço. Quando o programa encontra continue, ele interrompe a iteração atual imediatamente e salta para o início da próxima, ignorando qualquer código que venha depois dele dentro do laço.\n",
        "\n",
        "Método .items() de Dicionário: Usado no laço final (for char, contagem in contagem_caracteres.items():), este método é muito útil para percorrer um dicionário obtendo tanto a chave (char) quanto o valor (contagem) de cada par ao mesmo tempo."
      ],
      "metadata": {
        "id": "7mhtp7XhzvFm"
      }
    },
    {
      "cell_type": "markdown",
      "source": [
        "3. Verificador de Palíndromo\n",
        "Enunciado: Escreva um programa que verifique se uma palavra ou frase (ignorando espaços e pontuações) é um palíndromo, ou seja, se ela é igual quando lida de trás para frente."
      ],
      "metadata": {
        "id": "952UjJyq0Rz6"
      }
    },
    {
      "cell_type": "code",
      "source": [
        "# 1. Pede a frase ou palavra ao usuário.\n",
        "frase_original = input(\"Digite uma palavra ou frase para verificar se é um palíndromo: \")\n",
        "\n",
        "# 2. Normaliza a frase: cria uma cópia e a converte para minúsculas.\n",
        "frase_normalizada = frase_original.lower()\n",
        "\n",
        "# 3. Limpa a frase: remove espaços e pontuações.\n",
        "string_limpa = \"\" # Inicializa uma string vazia para construir a versão limpa.\n",
        "# Itera sobre cada caractere da frase normalizada.\n",
        "for caractere in frase_normalizada:\n",
        "    # O método .isalnum() verifica se o caractere é alfanumérico (letra ou número).\n",
        "    if caractere.isalnum():\n",
        "        # Se for, adiciona (concatena) o caractere à nossa string limpa.\n",
        "        string_limpa += caractere\n",
        "\n",
        "# 4. Inverte a string limpa usando a técnica de fatiamento (slicing).\n",
        "# [::-1] significa \"comece do início, vá até o fim, em passos de -1 (de trás para frente)\".\n",
        "string_invertida = string_limpa[::-1]\n",
        "\n",
        "# Exibição opcional para depuração (bom para entender o processo)\n",
        "print(f\"\\nFrase limpa: '{string_limpa}'\")\n",
        "print(f\"Frase invertida: '{string_invertida}'\")\n",
        "\n",
        "# 5. Compara a string limpa com sua versão invertida para dar o veredito.\n",
        "if string_limpa == string_invertida:\n",
        "    print(f\"\\nResultado: A frase '{frase_original}' É um palíndromo!\")\n",
        "else:\n",
        "    print(f\"\\nResultado: A frase '{frase_original}' NÃO é um palíndromo.\")"
      ],
      "metadata": {
        "id": "ppeaTXwd0WX8"
      },
      "execution_count": null,
      "outputs": []
    }
  ]
}