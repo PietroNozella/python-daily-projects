{
  "nbformat": 4,
  "nbformat_minor": 0,
  "metadata": {
    "colab": {
      "provenance": [],
      "authorship_tag": "ABX9TyP5Eh1Ecyt9WSdICDMTIb2e",
      "include_colab_link": true
    },
    "kernelspec": {
      "name": "python3",
      "display_name": "Python 3"
    },
    "language_info": {
      "name": "python"
    }
  },
  "cells": [
    {
      "cell_type": "markdown",
      "metadata": {
        "id": "view-in-github",
        "colab_type": "text"
      },
      "source": [
        "<a href=\"https://colab.research.google.com/github/PietroNozella/python-daily-projects/blob/main/ListaPython_PietroNozella_turma_A_Sexto_per%C3%ADodo.ipynb\" target=\"_parent\"><img src=\"https://colab.research.google.com/assets/colab-badge.svg\" alt=\"Open In Colab\"/></a>"
      ]
    },
    {
      "cell_type": "markdown",
      "source": [
        "1. Calculadora de Médias\n",
        "Enunciado: Crie um programa que calcule a média aritmética de uma lista de números fornecida pelo usuário. O programa deve permitir que o usuário insira quantos números desejar e, ao final, exibir a média dos números inseridos.\n"
      ],
      "metadata": {
        "id": "Cuvqm09CxggY"
      }
    },
    {
      "cell_type": "code",
      "source": [
        "# 1. Inicializa uma lista vazia para armazenar os números inseridos.\n",
        "numeros = []\n",
        "\n",
        "print(\"--- Calculadora de Média ---\")\n",
        "print(\"Digite os números um por um. Quando terminar, digite 'fim'.\")\n",
        "\n",
        "# 2. Cria um laço infinito que só será interrompido pelo usuário.\n",
        "while True:\n",
        "    # 3. Pede um dado ao usuário a cada iteração do laço.\n",
        "    entrada = input(\"Digite um número ou 'fim': \")\n",
        "\n",
        "    # 4. Verifica se o usuário quer parar. Usamos .lower() para aceitar 'fim', 'FIM', 'Fim', etc.\n",
        "    if entrada.lower() == 'fim':\n",
        "        break  # Interrompe o laço while.\n",
        "\n",
        "    # 5. Tenta converter a entrada para um número float.\n",
        "    try:\n",
        "        numero = float(entrada)\n",
        "        # 6. Se a conversão for bem-sucedida, adiciona o número à lista.\n",
        "        numeros.append(numero)\n",
        "    except ValueError:\n",
        "        # Se a conversão falhar, avisa o usuário e o laço continua.\n",
        "        print(\"Entrada inválida. Por favor, digite um número ou 'fim'.\")\n",
        "\n",
        "# 7. Após o laço, calcula a média.\n",
        "# Primeiro, verifica se a lista não está vazia para evitar divisão por zero.\n",
        "if len(numeros) > 0:\n",
        "    soma_dos_numeros = sum(numeros)\n",
        "    quantidade_de_numeros = len(numeros)\n",
        "    media = soma_dos_numeros / quantidade_de_numeros\n",
        "\n",
        "    # 8. Exibe o resultado final de forma clara.\n",
        "    print(\"\\n--- Resultado ---\")\n",
        "    print(f\"Os números inseridos foram: {numeros}\")\n",
        "    print(f\"A média dos {quantidade_de_numeros} números é: {media:.2f}\") # .2f formata para 2 casas decimais\n",
        "else:\n",
        "    # Caso o usuário não tenha inserido nenhum número.\n",
        "    print(\"\\nNenhum número foi inserido para calcular a média.\")"
      ],
      "metadata": {
        "id": "uF_-VUSuxz_D"
      },
      "execution_count": null,
      "outputs": []
    },
    {
      "cell_type": "markdown",
      "source": [
        "🔎 Resumo Pós-Código (Explicação Simples)\n",
        "\n",
        "Imagine que o programa é um \"coletor\". Ele primeiro pega uma cesta vazia, que é a nossa lista de números.\n",
        "\n",
        "Depois, ele entra em modo de repetição e fica te pedindo números, um de cada vez. A cada número que você digita, ele o converte para um formato numérico e o coloca dentro da cesta. Essa repetição só para quando você dá o sinal combinado, que é digitar a palavra \"fim\".\n",
        "\n",
        "Para ser inteligente, o programa tem uma \"rede de segurança\" (try/except). Se você digitar \"oi\" em vez de um número, ele não quebra; ele apenas avisa que a entrada é inválida e te pede um número novamente.\n",
        "\n",
        "Assim que você digita \"fim\", o coletor para. Ele então olha para a cesta, soma todos os números que guardou, divide pela quantidade de números que existem ali, e te mostra o resultado final, que é a média.\n",
        "\n",
        "💡 Conceitos-Chave Detalhados\n",
        "\n",
        "Laço while True com break: Padrão usado para criar um programa que executa repetidamente até que uma condição específica (o usuário digitar \"fim\") seja satisfeita.\n",
        "\n",
        "Listas (list): Coleções ordenadas e mutáveis. Ideais aqui porque podemos começar com uma lista vazia e adicionar elementos a ela (.append()) dinamicamente.\n",
        "\n",
        "Tratamento de Exceções (try...except ValueError): Um mecanismo de segurança. O try executa um código que \"pode falhar\". Se falhar com o erro ValueError (ex: float(\"abc\")), o programa não trava, mas executa o código no except.\n",
        "\n",
        "Funções Embutidas (sum() e len()): sum() soma todos os itens de uma lista de números. len() retorna quantos itens existem na lista. Elas simplificam muito o código.\n",
        "\n",
        "Conversão de Tipo (float()): A função input() sempre retorna texto. Para fazer contas, convertemos esse texto para um número de ponto flutuante (que aceita decimais)."
      ],
      "metadata": {
        "id": "RGn0hYuiyzyK"
      }
    },
    {
      "cell_type": "markdown",
      "source": [
        "2. Contador de Caracteres\n",
        "Enunciado: Desenvolva um script que conte quantas vezes cada caractere aparece em uma string fornecida pelo usuário. O programa deve ignorar espaços e diferenciar maiúsculas de minúsculas."
      ],
      "metadata": {
        "id": "HKT17zEIzEQO"
      }
    },
    {
      "cell_type": "code",
      "source": [
        "# 1. Pede ao usuário para inserir uma string.\n",
        "frase = input(\"Digite uma frase ou palavra: \")\n",
        "\n",
        "# 2. Inicializa um dicionário vazio para armazenar a contagem de cada caractere.\n",
        "contagem_caracteres = {}\n",
        "\n",
        "# 3. Itera sobre cada caractere na string fornecida.\n",
        "for caractere in frase:\n",
        "    # 4. Verifica se o caractere atual é um espaço em branco.\n",
        "    if caractere == ' ':\n",
        "        # Se for um espaço, pula para o próximo caractere sem fazer nada.\n",
        "        continue\n",
        "\n",
        "    # 5. Se o caractere não for um espaço, executa a lógica de contagem.\n",
        "    # Verifica se o caractere já existe como chave no dicionário.\n",
        "    if caractere in contagem_caracteres:\n",
        "        # Se já existe, aumenta seu valor (contador) em 1.\n",
        "        contagem_caracteres[caractere] += 1\n",
        "    else:\n",
        "        # Se não existe, cria a nova chave com o valor inicial 1.\n",
        "        contagem_caracteres[caractere] = 1\n",
        "\n",
        "# 6. Exibe o resultado final de forma organizada.\n",
        "print(\"\\n--- Contagem de Caracteres ---\")\n",
        "\n",
        "# Itera sobre os itens (chave, valor) do dicionário para exibi-los.\n",
        "for char, contagem in contagem_caracteres.items():\n",
        "    print(f\"O caractere '{char}' apareceu {contagem} vez(es).\")"
      ],
      "metadata": {
        "id": "zs1D-AmHzPpf"
      },
      "execution_count": null,
      "outputs": []
    },
    {
      "cell_type": "markdown",
      "source": [
        "🔎 Resumo Pós-Código (Explicação Simples)\n",
        "\n",
        "Pense no programa como um \"detetive de caracteres\". Primeiro, ele pede a você uma pista (a frase). Em seguida, ele pega uma prancheta vazia, que é o nosso dicionário.\n",
        "\n",
        "O detetive então olha cada caractere da sua frase, um por um. Se ele encontra um espaço, ele simplesmente o ignora e passa para o próximo.\n",
        "\n",
        "Para qualquer outro caractere (uma letra, um número, um ponto), ele olha para a prancheta e pergunta: \"Já anotei este aqui?\".\n",
        "\n",
        "Se a resposta for sim, ele apenas faz mais um \"risquinho\" na contagem daquele caractere.\n",
        "\n",
        "Se for não, ele escreve o caractere na prancheta e faz o primeiro \"risquinho\" ao lado dele.\n",
        "\n",
        "Quando ele termina de olhar todos os caracteres, ele te entrega a prancheta com o relatório final, mostrando exatamente quantas vezes cada caractere apareceu na sua pista.\n",
        "\n",
        "💡 Conceitos-Chave Detalhados\n",
        "\n",
        "Dicionário (dict): Novamente, a estrela do show. É a estrutura perfeita para associar um item único (o caractere) a um valor (sua contagem). A busca por chaves é extremamente rápida.\n",
        "\n",
        "Iterar sobre uma String: Em Python, for caractere in frase: é uma forma simples e legível de acessar cada caractere de uma string em sequência, sem precisar se preocupar com índices.\n",
        "\n",
        "Condicional if caractere == ' ': Uma verificação simples de igualdade. Usada aqui para implementar a regra de negócio de ignorar os espaços.\n",
        "\n",
        "Instrução continue: Um comando de controle de laço. Quando o programa encontra continue, ele interrompe a iteração atual imediatamente e salta para o início da próxima, ignorando qualquer código que venha depois dele dentro do laço.\n",
        "\n",
        "Método .items() de Dicionário: Usado no laço final (for char, contagem in contagem_caracteres.items():), este método é muito útil para percorrer um dicionário obtendo tanto a chave (char) quanto o valor (contagem) de cada par ao mesmo tempo."
      ],
      "metadata": {
        "id": "7mhtp7XhzvFm"
      }
    },
    {
      "cell_type": "markdown",
      "source": [
        "3. Verificador de Palíndromo\n",
        "Enunciado: Escreva um programa que verifique se uma palavra ou frase (ignorando espaços e pontuações) é um palíndromo, ou seja, se ela é igual quando lida de trás para frente."
      ],
      "metadata": {
        "id": "952UjJyq0Rz6"
      }
    },
    {
      "cell_type": "code",
      "source": [
        "# 1. Pede a frase ou palavra ao usuário.\n",
        "frase_original = input(\"Digite uma palavra ou frase para verificar se é um palíndromo: \")\n",
        "\n",
        "# 2. Normaliza a frase: cria uma cópia e a converte para minúsculas.\n",
        "frase_normalizada = frase_original.lower()\n",
        "\n",
        "# 3. Limpa a frase: remove espaços e pontuações.\n",
        "string_limpa = \"\" # Inicializa uma string vazia para construir a versão limpa.\n",
        "# Itera sobre cada caractere da frase normalizada.\n",
        "for caractere in frase_normalizada:\n",
        "    # O método .isalnum() verifica se o caractere é alfanumérico (letra ou número).\n",
        "    if caractere.isalnum():\n",
        "        # Se for, adiciona (concatena) o caractere à nossa string limpa.\n",
        "        string_limpa += caractere\n",
        "\n",
        "# 4. Inverte a string limpa usando a técnica de fatiamento (slicing).\n",
        "# [::-1] significa \"comece do início, vá até o fim, em passos de -1 (de trás para frente)\".\n",
        "string_invertida = string_limpa[::-1]\n",
        "\n",
        "# Exibição opcional para depuração (bom para entender o processo)\n",
        "print(f\"\\nFrase limpa: '{string_limpa}'\")\n",
        "print(f\"Frase invertida: '{string_invertida}'\")\n",
        "\n",
        "# 5. Compara a string limpa com sua versão invertida para dar o veredito.\n",
        "if string_limpa == string_invertida:\n",
        "    print(f\"\\nResultado: A frase '{frase_original}' É um palíndromo!\")\n",
        "else:\n",
        "    print(f\"\\nResultado: A frase '{frase_original}' NÃO é um palíndromo.\")"
      ],
      "metadata": {
        "id": "ppeaTXwd0WX8"
      },
      "execution_count": null,
      "outputs": []
    },
    {
      "cell_type": "markdown",
      "source": [
        "🔎 Resumo Pós-Código (Explicação Simples)\n",
        "\n",
        "Pense no programa como um \"inspetor de simetria\". Primeiro, ele pega a frase que você deu, não importa quão bagunçada ela esteja com maiúsculas, espaços ou vírgulas.\n",
        "\n",
        "O primeiro trabalho do inspetor é a \"limpeza\". Ele lixa a frase, tirando todos os espaços e pontuações e transformando todas as letras em minúsculas. O que sobra é só a essência da frase, como um bloco de letras puras (por exemplo, 'Anotaram a data da maratona' vira 'anotaramadatadamaratona').\n",
        "\n",
        "Depois, o inspetor pega essa versão limpa e, com um \"espelho mágico\" (a técnica [::-1]), ele cria uma versão perfeitamente invertida dela.\n",
        "\n",
        "No final, ele simplesmente coloca a versão limpa e a versão espelhada uma ao lado da outra. Se elas forem idênticas, ele te parabeniza: \"É um palíndromo!\". Se não forem, ele informa que a simetria não foi encontrada.\n",
        "\n",
        "💡 Conceitos-Chave Detalhados\n",
        "\n",
        "Manipulação de Strings: É o tema central. Inclui métodos como .lower() para converter para minúsculas.\n",
        "\n",
        "Método .isalnum(): Um método de string muito útil que retorna True se todos os caracteres forem alfanuméricos (letras de 'a' a 'z' e números de '0' a '9'). É uma forma robusta de filtrar apenas os caracteres que nos interessam.\n",
        "\n",
        "Fatiamento de String (Slicing) [::-1]: Esta é a técnica mais importante do exercício. A sintaxe geral de fatiamento é [início:fim:passo]. Ao usar [::-1], estamos dizendo ao Python:\n",
        "\n",
        "início (omitido): Comece do início da string.\n",
        "\n",
        "fim (omitido): Vá até o final da string.\n",
        "\n",
        "passo (-1): Mova-se um caractere para trás de cada vez.\n",
        "O resultado é uma cópia invertida da string original. É a forma mais rápida e legível de se fazer isso em Python.\n",
        "\n",
        "Concatenação de Strings (+=): Dentro do laço, usamos string_limpa += caractere, que é uma abreviação para string_limpa = string_limpa + caractere. É como estamos construindo nossa string limpa, caractere por caractere."
      ],
      "metadata": {
        "id": "Hek8DVK11vFL"
      }
    },
    {
      "cell_type": "markdown",
      "source": [
        "4. Conversor de Temperatura\n",
        "Enunciado: Crie um conversor que transforme temperaturas de Celsius para Fahrenheit e vice-versa. O programa deve permitir que o usuário escolha o tipo de conversão e insira a temperatura."
      ],
      "metadata": {
        "id": "wnP3txig2QBh"
      }
    },
    {
      "cell_type": "code",
      "source": [
        "# --- Funções de Conversão (Boa prática para organizar o código) ---\n",
        "\n",
        "def celsius_para_fahrenheit(celsius):\n",
        "    \"\"\"Converte uma temperatura de Celsius para Fahrenheit.\"\"\"\n",
        "    return (celsius * 9/5) + 32\n",
        "\n",
        "def fahrenheit_para_celsius(fahrenheit):\n",
        "    \"\"\"Converte uma temperatura de Fahrenheit para Celsius.\"\"\"\n",
        "    return (fahrenheit - 32) * 5/9\n",
        "\n",
        "# --- Menu Principal do Programa ---\n",
        "\n",
        "# 1. Exibe as opções para o usuário.\n",
        "print(\"--- Conversor de Temperatura ---\")\n",
        "print(\"1: Converter de Celsius para Fahrenheit\")\n",
        "print(\"2: Converter de Fahrenheit para Celsius\")\n",
        "\n",
        "# 2. Pede ao usuário que escolha uma das opções.\n",
        "escolha = input(\"Escolha o tipo de conversão (1 ou 2): \")\n",
        "\n",
        "# 3. Usa if/elif/else para controlar o fluxo do programa.\n",
        "if escolha == '1':\n",
        "    try:\n",
        "        # Pede a temperatura e tenta convertê-la para float.\n",
        "        temp_celsius = float(input(\"Digite a temperatura em Celsius: \"))\n",
        "        # Chama a função de conversão.\n",
        "        temp_fahrenheit = celsius_para_fahrenheit(temp_celsius)\n",
        "        # Exibe o resultado formatado com uma casa decimal.\n",
        "        print(f\"\\nResultado: {temp_celsius:.1f}°C é equivalente a {temp_fahrenheit:.1f}°F.\")\n",
        "    except ValueError:\n",
        "        # Executado se o float() falhar.\n",
        "        print(\"Erro: Por favor, insira um valor numérico válido para a temperatura.\")\n",
        "\n",
        "elif escolha == '2':\n",
        "    try:\n",
        "        # Pede a temperatura e tenta convertê-la para float.\n",
        "        temp_fahrenheit = float(input(\"Digite a temperatura em Fahrenheit: \"))\n",
        "        # Chama a função de conversão.\n",
        "        temp_celsius = fahrenheit_para_celsius(temp_fahrenheit)\n",
        "        # Exibe o resultado formatado com uma casa decimal.\n",
        "        print(f\"\\nResultado: {temp_fahrenheit:.1f}°F é equivalente a {temp_celsius:.1f}°C.\")\n",
        "    except ValueError:\n",
        "        # Executado se o float() falhar.\n",
        "        print(\"Erro: Por favor, insira um valor numérico válido para a temperatura.\")\n",
        "\n",
        "else:\n",
        "    # Executado se a escolha não for nem '1' nem '2'.\n",
        "    print(\"Opção inválida. Por favor, execute o programa novamente e escolha 1 ou 2.\")"
      ],
      "metadata": {
        "id": "Qj01pe5U2Q2E"
      },
      "execution_count": null,
      "outputs": []
    },
    {
      "cell_type": "markdown",
      "source": [
        "5. Gerador de Tabuada\n",
        "Enunciado: Desenvolva um programa que gere a tabuada de um número fornecido pelo usuário. O programa deve exibir a multiplicação de 1 até 10 para o número informado."
      ],
      "metadata": {
        "id": "QKNJpHlTJEbu"
      }
    },
    {
      "cell_type": "code",
      "metadata": {
        "id": "8620a229"
      },
      "source": [
        "# 1. Pede ao usuário para inserir um número inteiro.\n",
        "print(\"--- Gerador de Tabuada ---\")\n",
        "try:\n",
        "    numero = int(input(\"Digite um número inteiro para ver a tabuada: \"))\n",
        "\n",
        "    # 2. Itera de 1 a 10 (inclusive) usando um laço for.\n",
        "    print(f\"\\n--- Tabuada de {numero} ---\")\n",
        "    # range(1, 11) gera uma sequência de números de 1 a 10.\n",
        "    for i in range(1, 11):\n",
        "        # 3. Calcula o resultado da multiplicação.\n",
        "        resultado = numero * i\n",
        "        # 4. Exibe o resultado de forma clara.\n",
        "        print(f\"{numero} x {i} = {resultado}\")\n",
        "\n",
        "except ValueError:\n",
        "    # Executado se a entrada não for um número inteiro válido.\n",
        "    print(\"Erro: Entrada inválida. Por favor, digite um número inteiro.\")"
      ],
      "execution_count": null,
      "outputs": []
    },
    {
      "cell_type": "markdown",
      "metadata": {
        "id": "ca8a69df"
      },
      "source": [
        "🔎 Resumo Pós-Código (Explicação Simples)\n",
        "\n",
        "Imagine que o programa é um \"mestre de tabuadas\". Primeiro, ele te pergunta: \"De qual número você quer a tabuada?\".\n",
        "\n",
        "Depois que você diz o número, o mestre pega a caneta e começa a escrever. Ele pega o número que você deu e multiplica por 1, depois por 2, depois por 3, e assim por diante, até chegar no 10.\n",
        "\n",
        "Para cada multiplicação, ele anota o resultado e te mostra na tela.\n",
        "\n",
        "Se, por engano, você disser algo que não é um número, como \"casa\", o mestre avisa que não entendeu e pede para você tentar de novo com um número válido.\n",
        "\n",
        "No final, você tem a tabuada completa do número que pediu, do 1 ao 10.\n",
        "\n",
        "💡 Conceitos-Chave Detalhados\n",
        "\n",
        "Entrada do Usuário (input()): Usada para obter o número do qual a tabuada será gerada.\n",
        "\n",
        "Conversão de Tipo (int()): Crucial aqui para garantir que a entrada do usuário seja tratada como um número inteiro, pois a tabuada tradicional é feita com números inteiros.\n",
        "\n",
        "Tratamento de Exceções (try...except ValueError): Essencial para lidar com entradas que não podem ser convertidas para inteiro, evitando que o programa trave.\n",
        "\n",
        "Laço for com range(): O laço for é perfeito para repetir uma ação um número fixo de vezes. range(1, 11) cria uma sequência de números inteiros começando em 1 e indo até 10 (o 11 é exclusivo no range). Isso garante que a tabuada seja gerada para os multiplicadores de 1 a 10.\n",
        "\n",
        "Formatação de String (f-strings): Usada para exibir o resultado de cada multiplicação de forma clara e legível (ex: f\"{numero} x {i} = {resultado}\")."
      ]
    },
    {
      "cell_type": "markdown",
      "source": [
        "\n",
        "6. Simulador de Lançamento de Dados Enunciado: Escreva um script que simule o lançamento de um dado de 6 faces. O programa deve solicitar ao usuário quantas vezes ele deseja lançar o dado e mostrar os resultados de cada lançamento."
      ],
      "metadata": {
        "id": "llkGGx3uLAYn"
      }
    },
    {
      "cell_type": "code",
      "metadata": {
        "id": "3385d4e2"
      },
      "source": [
        "import random # Importa o módulo 'random' para gerar números aleatórios.\n",
        "\n",
        "print(\"--- Simulador de Lançamento de Dados ---\")\n",
        "\n",
        "# 1. Pede ao usuário quantas vezes ele quer lançar o dado.\n",
        "try:\n",
        "    quantidade_lancamentos = int(input(\"Quantas vezes você quer lançar o dado? \"))\n",
        "\n",
        "    # 2. Verifica se o número de lançamentos é positivo.\n",
        "    if quantidade_lancamentos <= 0:\n",
        "        print(\"Por favor, digite um número positivo de lançamentos.\")\n",
        "    else:\n",
        "        print(f\"\\nRealizando {quantidade_lancamentos} lançamento(s):\")\n",
        "        # 3. Usa um laço for para simular cada lançamento.\n",
        "        for _ in range(quantidade_lancamentos):\n",
        "            # 4. Gera um número inteiro aleatório entre 1 e 6 (inclusive).\n",
        "            resultado_dado = random.randint(1, 6)\n",
        "            # 5. Exibe o resultado do lançamento atual.\n",
        "            print(f\"Lançamento: {resultado_dado}\")\n",
        "\n",
        "except ValueError:\n",
        "    # Executado se a entrada não for um número inteiro válido.\n",
        "    print(\"Erro: Entrada inválida. Por favor, digite um número inteiro para a quantidade de lançamentos.\")"
      ],
      "execution_count": null,
      "outputs": []
    },
    {
      "cell_type": "markdown",
      "metadata": {
        "id": "a6241a7d"
      },
      "source": [
        "🔎 Resumo Pós-Código (Explicação Simples)\n",
        "\n",
        "Imagine que o programa é um \"lançador de dados digital\". Primeiro, ele te pergunta: \"Quantas vezes você quer jogar o dado?\".\n",
        "\n",
        "Depois que você diz quantas vezes, o lançador se prepara. Ele tem um dado virtual de 6 lados.\n",
        "\n",
        "Para cada vez que você pediu para lançar, ele \"joga\" o dado e te mostra qual número saiu (de 1 a 6). Ele repete isso o número de vezes que você especificou.\n",
        "\n",
        "Se você disser algo que não é um número, ou um número negativo, ele te avisa que não pode fazer isso e pede para você tentar de novo com um número válido e positivo.\n",
        "\n",
        "No final, você vê a sequência de todos os resultados dos lançamentos.\n",
        "\n",
        "💡 Conceitos-Chave Detalhados\n",
        "\n",
        "Módulo random: Uma biblioteca padrão do Python essencial para tarefas que envolvem aleatoriedade.\n",
        "\n",
        "Função random.randint(a, b): Esta é a função principal do módulo random usada aqui. Ela retorna um número inteiro aleatório N tal que a <= N <= b. Perfeito para simular o lançamento de um dado de 6 faces (random.randint(1, 6)).\n",
        "\n",
        "Entrada do Usuário (input()): Usada para obter a quantidade de lançamentos desejada.\n",
        "\n",
        "Conversão de Tipo (int()): Necessária para garantir que a quantidade de lançamentos seja um número inteiro.\n",
        "\n",
        "Tratamento de Exceções (try...except ValueError): Fundamental para lidar com entradas não numéricas.\n",
        "\n",
        "Laço for com range(): Usado para repetir a ação de \"lançar o dado\" (gerar um número aleatório) o número especificado de vezes. O `_` como variável do laço é uma convenção comum para indicar que a variável de iteração em si não será usada dentro do laço, apenas a repetição é importante.\n",
        "\n",
        "Condicional if quantidade_lancamentos <= 0: Adiciona uma verificação simples para garantir que o usuário insira um número válido de lançamentos (positivo)."
      ]
    },
    {
      "cell_type": "markdown",
      "source": [
        "7. Ordenação de Lista\n",
        "Enunciado: Desenvolva um programa que receba uma lista de números do usuário e ordene essa lista em ordem crescente. O programa deve exibir a lista antes e depois da ordenação."
      ],
      "metadata": {
        "id": "lftqRIApLi3q"
      }
    },
    {
      "cell_type": "code",
      "metadata": {
        "id": "18ebeafe"
      },
      "source": [
        "# 1. Inicializa uma lista vazia para armazenar os números.\n",
        "numeros = []\n",
        "\n",
        "print(\"--- Ordenador de Lista ---\")\n",
        "print(\"Digite os números um por um. Quando terminar, digite 'fim'.\")\n",
        "\n",
        "# 2. Laço para receber os números do usuário.\n",
        "while True:\n",
        "    entrada = input(\"Digite um número ou 'fim': \")\n",
        "    if entrada.lower() == 'fim':\n",
        "        break\n",
        "    try:\n",
        "        numero = float(entrada)\n",
        "        numeros.append(numero)\n",
        "    except ValueError:\n",
        "        print(\"Entrada inválida. Por favor, digite um número ou 'fim'.\")\n",
        "\n",
        "# 3. Verifica se a lista não está vazia antes de ordenar.\n",
        "if len(numeros) > 0:\n",
        "    print(f\"\\n--- Antes da Ordenação ---\")\n",
        "    print(numeros)\n",
        "\n",
        "    # 4. Ordena a lista em ordem crescente.\n",
        "    # O método .sort() ordena a lista IN-PLACE (modifica a lista original).\n",
        "    numeros.sort()\n",
        "\n",
        "    print(f\"\\n--- Depois da Ordenação (Crescente) ---\")\n",
        "    print(numeros)\n",
        "\n",
        "    # Se quiser ordenar em ordem decrescente, pode usar:\n",
        "    # numeros.sort(reverse=True)\n",
        "    # print(f\"\\n--- Depois da Ordenação (Decrescente) ---\")\n",
        "    # print(numeros)\n",
        "\n",
        "else:\n",
        "    print(\"\\nNenhum número foi inserido para ordenar.\")"
      ],
      "execution_count": null,
      "outputs": []
    },
    {
      "cell_type": "markdown",
      "metadata": {
        "id": "6578c513"
      },
      "source": [
        "🔎 Resumo Pós-Código (Explicação Simples)\n",
        "\n",
        "Pense neste programa como um \"organizador de bagunça numérica\". Primeiro, ele te dá uma caixa vazia e te pede para colocar números dentro dela, um de cada vez. Você pode colocar quantos números quiser e na ordem que quiser. Quando terminar de colocar tudo, você avisa digitando \"fim\".\n",
        "\n",
        "Antes de organizar, ele mostra como os números estavam na caixa (a lista bagunçada).\n",
        "\n",
        "Depois, o organizador faz a mágica: ele pega todos os números na caixa e os arruma, colocando o menor primeiro, depois o segundo menor, e assim por diante, até chegar no maior. Ele faz isso diretamente na caixa que você deu (usando o método `.sort()`).\n",
        "\n",
        "Finalmente, ele te mostra a caixa novamente, mas agora com todos os números perfeitamente arrumados em ordem crescente. Se você quisesse, ele poderia até arrumar do maior para o menor!\n",
        "\n",
        "💡 Conceitos-Chave Detalhados\n",
        "\n",
        "Listas (list): Novamente, a estrutura fundamental para armazenar uma coleção de itens. A flexibilidade de adicionar elementos com `.append()` é crucial para receber os números do usuário.\n",
        "\n",
        "Entrada do Usuário e Laço `while True` com `break`: Padrão já visto para coletar múltiplos inputs do usuário até que uma condição de parada seja encontrada.\n",
        "\n",
        "Tratamento de Exceções (`try...except ValueError`): Essencial para validar se a entrada do usuário é realmente um número e evitar erros.\n",
        "\n",
        "Método `.sort()` de Lista: Este é o conceito principal aqui. O método `.sort()` é uma forma IN-PLACE de ordenar os itens de uma lista. \"In-place\" significa que ele modifica a lista original diretamente, sem criar uma nova lista. Por padrão, a ordenação é crescente. Para ordenar em ordem decrescente, usaríamos `lista.sort(reverse=True)`. É importante notar que `.sort()` só funciona para listas onde todos os elementos são comparáveis (números com números, strings com strings, etc.).\n",
        "\n",
        "Verificação `if len(numeros) > 0`: Uma boa prática para garantir que a lista não está vazia antes de tentar realizar operações nela, como a ordenação, evitando erros caso o usuário digite \"fim\" imediatamente."
      ]
    },
    {
      "cell_type": "markdown",
      "source": [
        "8. Verificador de Números Primos\n",
        "Enunciado: Crie um programa que determine se um número fornecido pelo usuário é primo. O programa deve informar se o número é primo ou não e listar todos os divisores do número."
      ],
      "metadata": {
        "id": "NcUD1xqxLm7j"
      }
    },
    {
      "cell_type": "code",
      "metadata": {
        "id": "b3c2d292"
      },
      "source": [
        "print(\"--- Verificador de Números Primos ---\")\n",
        "\n",
        "# 1. Pede ao usuário para inserir um número inteiro positivo.\n",
        "try:\n",
        "    numero = int(input(\"Digite um número inteiro positivo: \"))\n",
        "\n",
        "    # 2. Verifica se o número é menor que 2, pois números primos são maiores que 1.\n",
        "    if numero < 2:\n",
        "        print(f\"\\nResultado: O número {numero} não é primo.\")\n",
        "    else:\n",
        "        # 3. Inicializa uma lista para armazenar os divisores.\n",
        "        divisores = []\n",
        "        # 4. Assume inicialmente que o número é primo.\n",
        "        eh_primo = True\n",
        "\n",
        "        # 5. Itera de 1 até o número (inclusive) para encontrar os divisores.\n",
        "        # Usamos range(1, numero + 1) para incluir o próprio número.\n",
        "        for i in range(1, numero + 1):\n",
        "            # 6. Verifica se 'i' é um divisor do número.\n",
        "            if numero % i == 0:\n",
        "                divisores.append(i)\n",
        "\n",
        "        # 7. Após encontrar todos os divisores, verifica se o número é primo.\n",
        "        # Um número é primo se tiver exatamente dois divisores: 1 e ele mesmo.\n",
        "        if len(divisores) == 2:\n",
        "            print(f\"\\nResultado: O número {numero} É um número primo!\")\n",
        "            eh_primo = True # Confirma que é primo\n",
        "        else:\n",
        "            print(f\"\\nResultado: O número {numero} NÃO é um número primo.\")\n",
        "            eh_primo = False # Confirma que não é primo\n",
        "\n",
        "        # 8. Exibe a lista de divisores.\n",
        "        print(f\"Divisores de {numero}: {divisores}\")\n",
        "\n",
        "except ValueError:\n",
        "    # Executado se a entrada não for um número inteiro válido.\n",
        "    print(\"Erro: Entrada inválida. Por favor, digite um número inteiro positivo.\")\n",
        "except Exception as e:\n",
        "    # Captura outros possíveis erros inesperados.\n",
        "    print(f\"Ocorreu um erro inesperado: {e}\")"
      ],
      "execution_count": null,
      "outputs": []
    },
    {
      "cell_type": "markdown",
      "metadata": {
        "id": "073cde35"
      },
      "source": [
        "🔎 Resumo Pós-Código (Explicação Simples)\n",
        "\n",
        "Imagine que o programa é um \"fiscal de primos\". Primeiro, ele te pede para dizer um número inteiro positivo.\n",
        "\n",
        "O fiscal então pega o número e começa a testar todos os números a partir de 1 até o número que você deu. Para cada número testado, ele pergunta: \"Este número divide o seu número sem deixar resto?\".\n",
        "\n",
        "Se a resposta for sim, ele anota esse número como um \"divisor\". Ele guarda todos os divisores que encontra.\n",
        "\n",
        "Depois de testar todos os números até o seu, o fiscal olha a lista de divisores que ele anotou. Se a lista tiver *exatamente* dois números (que sempre serão o 1 e o próprio número), ele te diz: \"Seu número é primo!\". Se a lista tiver mais ou menos de dois números, ele diz que não é primo.\n",
        "\n",
        "No final, ele te mostra a lista completa de todos os divisores que encontrou.\n",
        "\n",
        "Se você disser algo que não é um número inteiro positivo, o fiscal te avisa que não entendeu.\n",
        "\n",
        "💡 Conceitos-Chave Detalhados\n",
        "\n",
        "Entrada do Usuário (input()) e Conversão de Tipo (int()): Usadas para obter e validar a entrada numérica do usuário.\n",
        "\n",
        "Tratamento de Exceções (try...except ValueError): Essencial para lidar com entradas não numéricas.\n",
        "\n",
        "Condicional `if numero < 2`: Lida com a definição de números primos, que devem ser maiores que 1.\n",
        "\n",
        "Laço `for` com `range()`: Usado para iterar por todos os possíveis divisores, de 1 até o número fornecido. `range(1, numero + 1)` é fundamental para incluir o próprio número na verificação.\n",
        "\n",
        "Operador Módulo (`%`): A operação `numero % i == 0` é a chave para verificar se `i` é um divisor de `numero`. Se o resto da divisão for zero, então é um divisor.\n",
        "\n",
        "Listas (`list`) e Método `.append()`: Uma lista é usada para armazenar todos os divisores encontrados. O método `.append()` adiciona um item ao final da lista.\n",
        "\n",
        "Verificação `if len(divisores) == 2`: A condição final para determinar se um número é primo é ter *exatamente* dois divisores (1 e ele mesmo). `len()` retorna o número de itens na lista.\n",
        "\n",
        "Variável Booleana (`eh_primo`): Embora não estritamente necessária para este código específico, usar uma variável booleana para rastrear o estado de \"ser primo\" é uma prática comum e útil em lógica de programação, especialmente em programas mais complexos."
      ]
    },
    {
      "cell_type": "markdown",
      "source": [
        "9. Sistema de Login Simples\n",
        "Enunciado: Implemente um sistema de login simples que armazene os nomes de usuário e senhas em um dicionário. O programa deve permitir que o usuário se cadastre e faça login, validando as credenciais inseridas."
      ],
      "metadata": {
        "id": "VMet6kOcLvFl"
      }
    },
    {
      "cell_type": "code",
      "metadata": {
        "id": "04b21c2d"
      },
      "source": [
        "# 1. Inicializa um dicionário vazio para armazenar usuários e senhas.\n",
        "# A chave será o nome de usuário e o valor será a senha.\n",
        "usuarios = {}\n",
        "\n",
        "print(\"--- Sistema de Login Simples ---\")\n",
        "\n",
        "while True:\n",
        "    # 2. Apresenta as opções para o usuário.\n",
        "    print(\"\\nEscolha uma opção:\")\n",
        "    print(\"1: Cadastrar novo usuário\")\n",
        "    print(\"2: Fazer Login\")\n",
        "    print(\"3: Sair\")\n",
        "\n",
        "    # 3. Pede a escolha do usuário.\n",
        "    escolha = input(\"Digite o número da opção desejada: \")\n",
        "\n",
        "    # 4. Processa a escolha usando if/elif/else.\n",
        "    if escolha == '1':\n",
        "        # --- Opção de Cadastro ---\n",
        "        print(\"\\n--- Cadastro de Novo Usuário ---\")\n",
        "        novo_usuario = input(\"Digite o nome de usuário: \")\n",
        "\n",
        "        # Verifica se o nome de usuário já existe.\n",
        "        if novo_usuario in usuarios:\n",
        "            print(\"Erro: Nome de usuário já existe. Por favor, escolha outro.\")\n",
        "        else:\n",
        "            nova_senha = input(\"Digite a senha: \")\n",
        "            # Armazena o novo usuário e senha no dicionário.\n",
        "            usuarios[novo_usuario] = nova_senha\n",
        "            print(\"Usuário cadastrado com sucesso!\")\n",
        "\n",
        "    elif escolha == '2':\n",
        "        # --- Opção de Login ---\n",
        "        print(\"\\n--- Login ---\")\n",
        "        usuario_login = input(\"Digite seu nome de usuário: \")\n",
        "        senha_login = input(\"Digite sua senha: \")\n",
        "\n",
        "        # Verifica se o nome de usuário existe e se a senha corresponde.\n",
        "        # Primeiro, verifica se o usuário está no dicionário.\n",
        "        if usuario_login in usuarios:\n",
        "            # Se existir, verifica se a senha digitada corresponde à senha armazenada.\n",
        "            if usuarios[usuario_login] == senha_login:\n",
        "                print(f\"Login bem-sucedido! Bem-vindo(a), {usuario_login}!\")\n",
        "            else:\n",
        "                print(\"Erro de Login: Senha incorreta.\")\n",
        "        else:\n",
        "            print(\"Erro de Login: Nome de usuário não encontrado.\")\n",
        "\n",
        "    elif escolha == '3':\n",
        "        # --- Opção de Sair ---\n",
        "        print(\"Saindo do sistema. Até mais!\")\n",
        "        break # Interrompe o laço while.\n",
        "\n",
        "    else:\n",
        "        # --- Opção Inválida ---\n",
        "        print(\"Opção inválida. Por favor, digite 1, 2 ou 3.\")"
      ],
      "execution_count": null,
      "outputs": []
    },
    {
      "cell_type": "markdown",
      "metadata": {
        "id": "52641a1c"
      },
      "source": [
        "🔎 Resumo Pós-Código (Explicação Simples)\n",
        "\n",
        "Imagine que este programa é a \"portaria digital\" de um clube secreto.\n",
        "\n",
        "Primeiro, a portaria tem um livro vazio (nosso dicionário) onde ela anota quem é membro e qual a senha secreta de cada um.\n",
        "\n",
        "Você chega na portaria e ela te dá as opções: \"Quer se cadastrar como novo membro?\", \"Já é membro e quer entrar?\" ou \"Só está de passagem e quer ir embora?\".\n",
        "\n",
        "Se você escolher \"Cadastrar\", a portaria pede um nome e uma senha. Ela verifica no livro se aquele nome já está lá. Se não estiver, ela anota seu nome e senha. Se já estiver, ela avisa que você precisa escolher outro nome.\n",
        "\n",
        "Se você escolher \"Entrar\", ela pede seu nome e senha. Ela verifica no livro se o nome existe. Se existir, ela compara a senha que você deu com a que está anotada. Se for a mesma, ela diz \"Bem-vindo!\". Se a senha estiver errada ou o nome não estiver no livro, ela nega a entrada e avisa o motivo.\n",
        "\n",
        "Se você escolher \"Sair\", a portaria te deseja \"Até mais!\" e encerra o atendimento.\n",
        "\n",
        "Se você disser algo que ela não entende (como digitar '4'), ela avisa que a opção é inválida.\n",
        "\n",
        "Tudo isso se repete até que você diga que quer sair.\n",
        "\n",
        "💡 Conceitos-Chave Detalhados\n",
        "\n",
        "Dicionário (dict): A estrutura de dados central. É usada para armazenar pares chave-valor, onde a chave é o nome de usuário (único) e o valor é a senha correspondente. Dicionários são eficientes para buscar informações por chave (`if novo_usuario in usuarios:`).\n",
        "\n",
        "Laço `while True` com `break`: Cria o loop principal do programa, que continua rodando e apresentando o menu até que o usuário explicitamente escolha sair (opção 3).\n",
        "\n",
        "Entrada do Usuário (input()): Essencial para receber o nome de usuário, a senha e a opção escolhida pelo usuário.\n",
        "\n",
        "Estrutura `if/elif/else`: Controla o fluxo do programa, permitindo que ele execute diferentes blocos de código dependendo da escolha do usuário.\n",
        "\n",
        "Verificação de Existência de Chave (`if novo_usuario in usuarios:`): Uma forma rápida de verificar se um nome de usuário já existe como chave no dicionário `usuarios` antes de tentar cadastrá-lo.\n",
        "\n",
        "Acesso a Valores em Dicionário (`usuarios[usuario_login]`): Usado para obter a senha armazenada para um determinado nome de usuário, permitindo a comparação com a senha digitada durante o login.\n",
        "\n",
        "Comparação de Strings (`usuarios[usuario_login] == senha_login`): Realiza a validação da senha.\n",
        "\n",
        "Mensagens para o Usuário (`print()`): Utilizadas para fornecer feedback ao usuário sobre o sucesso ou falha das operações de cadastro e login, além de apresentar o menu."
      ]
    },
    {
      "cell_type": "markdown",
      "source": [
        "10. Calculadora de Fatorial\n",
        "Enunciado: Escreva um programa que calcule o fatorial de um número fornecido pelo usuário utilizando um loop for. O programa deve exibir o resultado do fatorial ao final."
      ],
      "metadata": {
        "id": "4sb6jftMNeB5"
      }
    },
    {
      "cell_type": "code",
      "metadata": {
        "id": "d4cfe260"
      },
      "source": [
        "print(\"--- Calculadora de Fatorial ---\")\n",
        "\n",
        "# 1. Pede ao usuário para inserir um número inteiro não negativo.\n",
        "try:\n",
        "    numero = int(input(\"Digite um número inteiro não negativo para calcular o fatorial: \"))\n",
        "\n",
        "    # 2. Verifica se o número é negativo. Fatorial não é definido para números negativos.\n",
        "    if numero < 0:\n",
        "        print(\"\\nErro: O fatorial não é definido para números negativos.\")\n",
        "    # 3. O fatorial de 0 é 1.\n",
        "    elif numero == 0:\n",
        "        print(f\"\\nResultado: O fatorial de {numero} é 1\")\n",
        "    # 4. Calcula o fatorial para números positivos.\n",
        "    else:\n",
        "        fatorial = 1 # Inicializa o fatorial com 1\n",
        "        # Itera de 1 até o número (inclusive) para multiplicar.\n",
        "        # range(1, numero + 1) garante que incluímos o próprio número.\n",
        "        for i in range(1, numero + 1):\n",
        "            fatorial *= i # Multiplica o fatorial pelo número atual da iteração\n",
        "\n",
        "        # 5. Exibe o resultado final.\n",
        "        print(f\"\\nResultado: O fatorial de {numero} é {fatorial}\")\n",
        "\n",
        "except ValueError:\n",
        "    # Executado se a entrada não for um número inteiro válido.\n",
        "    print(\"Erro: Entrada inválida. Por favor, digite um número inteiro não negativo.\")\n",
        "except Exception as e:\n",
        "    # Captura outros possíveis erros inesperados.\n",
        "    print(f\"Ocorreu um erro inesperado: {e}\")"
      ],
      "execution_count": null,
      "outputs": []
    },
    {
      "cell_type": "markdown",
      "metadata": {
        "id": "cb3dab93"
      },
      "source": [
        "🔎 Resumo Pós-Código (Explicação Simples)\n",
        "\n",
        "Imagine que o programa é um \"multiplicador em série\". Primeiro, ele te pede um número inteiro que não seja negativo.\n",
        "\n",
        "Se o número for negativo, ele avisa que não pode calcular o fatorial disso.\n",
        "\n",
        "Se o número for zero, ele já sabe a resposta: o fatorial é 1.\n",
        "\n",
        "Se o número for positivo (como 5, por exemplo), ele pega o número 1 como ponto de partida. Depois, ele começa a multiplicar: 1 vezes 1, depois o resultado vezes 2, depois o novo resultado vezes 3, e assim por diante, até multiplicar pelo número que você deu.\n",
        "\n",
        "Por exemplo, para o número 5, ele faria: 1 * 1 * 2 * 3 * 4 * 5.\n",
        "\n",
        "No final, ele te mostra o resultado dessa sequência de multiplicações.\n",
        "\n",
        "Se você digitar algo que não é um número válido, ele avisa que não entendeu.\n",
        "\n",
        "💡 Conceitos-Chave Detalhados\n",
        "\n",
        "Entrada do Usuário (input()) e Conversão de Tipo (int()): Essenciais para obter e validar a entrada numérica do usuário, garantindo que seja um número inteiro.\n",
        "\n",
        "Tratamento de Exceções (try...except ValueError): Fundamental para lidar com entradas que não podem ser convertidas para inteiro, evitando que o programa trave.\n",
        "\n",
        "Condicionais (`if`, `elif`, `else`): Usadas para verificar se o número é negativo (caso inválido), se é zero (caso base do fatorial) ou positivo (onde o cálculo é feito).\n",
        "\n",
        "Laço `for` com `range()`: Utilizado para iterar de 1 até o número fornecido pelo usuário. `range(1, numero + 1)` é importante para incluir o próprio número na multiplicação.\n",
        "\n",
        "Variável Acumuladora (`fatorial`): A variável `fatorial` começa com 1 e, a cada iteração do laço, é multiplicada pelo número atual (`fatorial *= i`). Isso \"acumula\" o produto de todos os números de 1 até o número fornecido.\n",
        "\n",
        "Operador de Atribuição Aumentada (`*=`): `fatorial *= i` é uma forma abreviada de escrever `fatorial = fatorial * i`. É uma sintaxe comum para operações de acumulação ou agregação dentro de laços.\n",
        "\n",
        "Mensagens para o Usuário (`print()`): Utilizadas para guiar o usuário, mostrar erros de entrada e exibir o resultado final do cálculo."
      ]
    },
    {
      "cell_type": "markdown",
      "source": [
        "11. Conversor de Moedas Simples\n",
        "Enunciado: Crie um programa que converta um valor em reais para dólares ou euros. O programa deve permitir que o usuário escolha a moeda de destino e insira o valor a ser convertido, utilizando uma taxa de câmbio fixa definida no código."
      ],
      "metadata": {
        "id": "wVI8KxtJNlUh"
      }
    },
    {
      "cell_type": "code",
      "metadata": {
        "id": "088bc6cb"
      },
      "source": [
        "print(\"--- Conversor de Moedas Simples ---\")\n",
        "\n",
        "# Taxas de câmbio fixas (podem ser atualizadas)\n",
        "TAXA_DOLAR = 5.20  # 1 Real = 5.20 Dólares (Exemplo)\n",
        "TAXA_EURO = 6.10   # 1 Real = 6.10 Euros (Exemplo)\n",
        "\n",
        "# 1. Pede ao usuário o valor em Reais a ser convertido.\n",
        "try:\n",
        "    valor_reais = float(input(\"Digite o valor em Reais (R$) a ser convertido: \"))\n",
        "\n",
        "    # 2. Verifica se o valor é positivo.\n",
        "    if valor_reais < 0:\n",
        "        print(\"\\nErro: O valor a ser convertido deve ser positivo.\")\n",
        "    else:\n",
        "        # 3. Pede ao usuário para escolher a moeda de destino.\n",
        "        print(\"\\nEscolha a moeda de destino:\")\n",
        "        print(\"1: Dólar Americano (USD)\")\n",
        "        print(\"2: Euro (EUR)\")\n",
        "\n",
        "        escolha_moeda = input(\"Digite o número da moeda de destino (1 ou 2): \")\n",
        "\n",
        "        # 4. Realiza a conversão com base na escolha.\n",
        "        if escolha_moeda == '1':\n",
        "            valor_convertido = valor_reais / TAXA_DOLAR\n",
        "            print(f\"\\nResultado: R$ {valor_reais:.2f} equivalem a US$ {valor_convertido:.2f} (Taxa: 1 USD = R$ {TAXA_DOLAR:.2f})\")\n",
        "        elif escolha_moeda == '2':\n",
        "            valor_convertido = valor_reais / TAXA_EURO\n",
        "            print(f\"\\nResultado: R$ {valor_reais:.2f} equivalem a € {valor_convertido:.2f} (Taxa: 1 EUR = R$ {TAXA_EURO:.2f})\")\n",
        "        else:\n",
        "            print(\"\\nErro: Opção de moeda inválida. Por favor, escolha 1 ou 2.\")\n",
        "\n",
        "except ValueError:\n",
        "    # Executado se a entrada do valor não for um número válido.\n",
        "    print(\"Erro: Entrada inválida para o valor. Por favor, digite um número.\")\n",
        "except Exception as e:\n",
        "    # Captura outros possíveis erros inesperados.\n",
        "    print(f\"Ocorreu um erro inesperado: {e}\")"
      ],
      "execution_count": null,
      "outputs": []
    },
    {
      "cell_type": "markdown",
      "metadata": {
        "id": "762e5beb"
      },
      "source": [
        "🔎 Resumo Pós-Código (Explicação Simples)\n",
        "\n",
        "Pense neste programa como uma \"casa de câmbio digital\" muito simples. Ela já sabe quanto valem o Dólar e o Euro em relação ao Real (essas são as nossas taxas fixas).\n",
        "\n",
        "Primeiro, a casa de câmbio te pergunta: \"Quantos Reais você quer trocar?\". Você digita o valor.\n",
        "\n",
        "Depois, ela pergunta: \"Para qual moeda você quer trocar? Dólar ou Euro?\". Você escolhe uma das opções (1 ou 2).\n",
        "\n",
        "Com base na sua escolha, a casa de câmbio pega o valor em Reais que você deu e usa a taxa de câmbio correspondente para fazer a conta. Se você escolheu Dólar, ela divide seus Reais pela taxa do Dólar. Se escolheu Euro, divide pela taxa do Euro.\n",
        "\n",
        "No final, ela te mostra o valor convertido na moeda que você escolheu.\n",
        "\n",
        "Se você digitar algo que não é um número para o valor, ou escolher uma opção de moeda que não existe, a casa de câmbio avisa que não entendeu.\n",
        "\n",
        "💡 Conceitos-Chave Detalhados\n",
        "\n",
        "Variáveis para Taxas de Câmbio: Definimos `TAXA_DOLAR` e `TAXA_EURO` como variáveis no início. Isso torna o código mais legível e fácil de manter, pois se as taxas mudarem, você só precisa alterar esses dois valores. Usamos letras maiúsculas por convenção para indicar que são constantes (valores que não devem mudar durante a execução do programa).\n",
        "\n",
        "Entrada do Usuário (`input()`) e Conversão de Tipo (`float()`): Essenciais para obter o valor em Reais do usuário e garantir que ele seja tratado como um número decimal para os cálculos.\n",
        "\n",
        "Tratamento de Exceções (`try...except ValueError`): Fundamental para lidar com entradas não numéricas para o valor, evitando que o programa trave.\n",
        "\n",
        "Condicional `if valor_reais < 0`: Uma verificação simples para garantir que o valor a ser convertido faz sentido (não é negativo).\n",
        "\n",
        "Estrutura `if/elif/else`: Controla qual conversão será realizada com base na escolha da moeda de destino pelo usuário.\n",
        "\n",
        "Operação de Divisão (`/`): Usada para realizar a conversão do valor em Reais para a moeda de destino usando a taxa de câmbio.\n",
        "\n",
        "Formatação de String (f-strings com `:.2f`): Usada para exibir os valores monetários com duas casas decimais, que é o padrão para dinheiro, tornando a saída mais amigável.\n",
        "\n",
        "Mensagens para o Usuário (`print()`): Utilizadas para apresentar o menu, pedir inputs, mostrar resultados e exibir mensagens de erro."
      ]
    },
    {
      "cell_type": "markdown",
      "source": [
        "12. Contador de Palavras\n",
        "Enunciado: Desenvolva um script que conte o número de palavras em uma frase fornecida pelo usuário. O programa deve ignorar pontuações e considerar apenas as palavras separadas por espaços."
      ],
      "metadata": {
        "id": "Y_BLsz9NQJ-w"
      }
    },
    {
      "cell_type": "code",
      "metadata": {
        "id": "ee484388"
      },
      "source": [
        "import string # Importa o módulo 'string' para acessar caracteres de pontuação.\n",
        "\n",
        "print(\"--- Contador de Palavras ---\")\n",
        "\n",
        "# 1. Pede a frase ao usuário.\n",
        "frase = input(\"Digite uma frase: \")\n",
        "\n",
        "# 2. Remove a pontuação da frase.\n",
        "# Cria uma string vazia para a frase sem pontuação.\n",
        "frase_sem_pontuacao = \"\"\n",
        "for caractere in frase:\n",
        "    # Verifica se o caractere atual NÃO está na lista de pontuações do módulo string.\n",
        "    if caractere not in string.punctuation:\n",
        "        frase_sem_pontuacao += caractere # Adiciona o caractere (se não for pontuação)\n",
        "\n",
        "# 3. Converte a frase sem pontuação para minúsculas para garantir que palavras como \"Olá\" e \"olá\" sejam contadas como a mesma.\n",
        "frase_normalizada = frase_sem_pontuacao.lower()\n",
        "\n",
        "# 4. Divide a string em uma lista de palavras usando espaços como delimitador.\n",
        "# O método .split() divide a string onde encontra espaços e retorna uma lista.\n",
        "palavras = frase_normalizada.split()\n",
        "\n",
        "# 5. Conta o número de palavras na lista.\n",
        "# A função len() retorna o número de itens em uma lista.\n",
        "numero_de_palavras = len(palavras)\n",
        "\n",
        "# 6. Exibe o resultado final.\n",
        "print(f\"\\nA frase original era: '{frase}'\")\n",
        "print(f\"A frase sem pontuação e em minúsculas é: '{frase_normalizada}'\") # Opcional para visualização\n",
        "print(f\"\\nO número de palavras na frase é: {numero_de_palavras}\")\n",
        "\n",
        "# Observação: Este método simples de split() pode ter limitações com múltiplos espaços seguidos ou espaços no início/fim da frase.\n",
        "# Para uma contagem mais robusta, seria necessário um tratamento adicional ou o uso de expressões regulares."
      ],
      "execution_count": null,
      "outputs": []
    },
    {
      "cell_type": "markdown",
      "metadata": {
        "id": "63968353"
      },
      "source": [
        "🔎 Resumo Pós-Código (Explicação Simples)\n",
        "\n",
        "Pense no programa como um \"analista de texto\" focado em contar palavras. Primeiro, ele te pede para digitar uma frase.\n",
        "\n",
        "Depois de receber a frase, o analista faz uma \"limpeza\": ele tira todos os pontos, vírgulas e outros sinais de pontuação da frase.\n",
        "\n",
        "Para ser ainda mais preciso, ele transforma todas as letras em minúsculas. Assim, \"Casa\" e \"casa\" são tratadas como a mesma palavra.\n",
        "\n",
        "Com a frase limpa e padronizada, ele usa um \"divisor\" especial que quebra a frase em pedacinhos (as palavras), usando os espaços como guia. Cada pedacinho vira um item em uma lista.\n",
        "\n",
        "No final, o analista simplesmente conta quantos pedacinhos (palavras) existem na lista e te diz o total.\n",
        "\n",
        "Se você digitar uma frase com muita pontuação ou espaços extras, o método de contagem aqui é simples e pode não ser perfeito, mas funciona bem para frases comuns.\n",
        "\n",
        "💡 Conceitos-Chave Detalhados\n",
        "\n",
        "Módulo `string`: Importado para ter acesso rápido a conjuntos pré-definidos de caracteres, como `string.punctuation`, que contém todos os sinais de pontuação comuns.\n",
        "\n",
        "Iteração sobre String (`for caractere in frase:`): Permite processar cada caractere da string de entrada individualmente.\n",
        "\n",
        "Condicional (`if caractere not in string.punctuation:`): Verifica se um caractere *não* está presente no conjunto de pontuações. É a lógica central para remover a pontuação.\n",
        "\n",
        "Concatenação de Strings (`+=`): Usada para construir a nova string `frase_sem_pontuacao` adicionando os caracteres que não são pontuação.\n",
        "\n",
        "Método `.lower()`: Converte a string para minúsculas, garantindo que a contagem de palavras seja case-insensitive.\n",
        "\n",
        "Método `.split()` de String: Um método poderoso que divide uma string em uma lista de substrings (palavras), usando um delimitador. Por padrão, `.split()` usa qualquer sequência de espaços em branco (espaços, tabulações, quebras de linha) como delimitador e remove strings vazias resultantes de múltiplos espaços, o que já ajuda um pouco na limpeza.\n",
        "\n",
        "Função Embutida `len()`: Usada para obter o número de elementos na lista de palavras gerada pelo `.split()`.\n",
        "\n",
        "Tratamento Básico de Texto: O código demonstra uma abordagem simples para limpar e processar texto para uma tarefa específica. Para análises de texto mais complexas, bibliotecas como NLTK ou spaCy seriam mais adequadas."
      ]
    },
    {
      "cell_type": "markdown",
      "source": [
        "13. Gerador de Números Aleatórios\n",
        "Enunciado: Escreva um programa que gere n números aleatórios entre um intervalo fornecido pelo usuário. O programa deve solicitar o valor de n e os limites inferior e superior do intervalo."
      ],
      "metadata": {
        "id": "MG7mTu20RFov"
      }
    },
    {
      "cell_type": "code",
      "metadata": {
        "id": "d349e8f6"
      },
      "source": [
        "import random # Importa o módulo 'random' para gerar números aleatórios.\n",
        "\n",
        "print(\"--- Gerador de Números Aleatórios ---\")\n",
        "\n",
        "try:\n",
        "    # 1. Pede ao usuário a quantidade de números a serem gerados.\n",
        "    quantidade_numeros = int(input(\"Quantos números aleatórios você quer gerar? \"))\n",
        "\n",
        "    # 2. Verifica se a quantidade é positiva.\n",
        "    if quantidade_numeros <= 0:\n",
        "        print(\"\\nErro: A quantidade de números deve ser positiva.\")\n",
        "    else:\n",
        "        # 3. Pede ao usuário os limites do intervalo.\n",
        "        limite_inferior = int(input(\"Digite o limite inferior do intervalo: \"))\n",
        "        limite_superior = int(input(\"Digite o limite superior do intervalo: \"))\n",
        "\n",
        "        # 4. Verifica se os limites são válidos.\n",
        "        if limite_inferior > limite_superior:\n",
        "            print(\"\\nErro: O limite inferior não pode ser maior que o limite superior.\")\n",
        "        else:\n",
        "            print(f\"\\nGerando {quantidade_numeros} números aleatórios entre {limite_inferior} e {limite_superior}:\")\n",
        "            # 5. Gera e exibe os números aleatórios usando um laço for.\n",
        "            for _ in range(quantidade_numeros):\n",
        "                # random.randint(a, b) gera um número inteiro N tal que a <= N <= b.\n",
        "                numero_aleatorio = random.randint(limite_inferior, limite_superior)\n",
        "                print(numero_aleatorio)\n",
        "\n",
        "except ValueError:\n",
        "    # Executado se a entrada não for um número inteiro válido.\n",
        "    print(\"Erro: Entrada inválida. Por favor, digite números inteiros válidos.\")\n",
        "except Exception as e:\n",
        "    # Captura outros possíveis erros inesperados.\n",
        "    print(f\"Ocorreu um erro inesperado: {e}\")"
      ],
      "execution_count": null,
      "outputs": []
    },
    {
      "cell_type": "markdown",
      "metadata": {
        "id": "b1d94648"
      },
      "source": [
        "🔎 Resumo Pós-Código (Explicação Simples)\n",
        "\n",
        "Imagine que o programa é uma \"máquina de sorteio\" configurável. Primeiro, ela te pergunta: \"Quantos números sorteados você quer?\". Depois, ela pergunta: \"Entre quais números você quer que o sorteio aconteça?\".\n",
        "\n",
        "Você diz a quantidade e os números mínimo e máximo.\n",
        "\n",
        "Se você pedir uma quantidade negativa, ou se disser que o número mínimo é maior que o máximo, a máquina avisa que não faz sentido.\n",
        "\n",
        "Se tudo estiver certo, a máquina começa a sortear. Para cada número que você pediu, ela escolhe um número ao acaso dentro do intervalo que você definiu e te mostra o resultado. Ela repete isso até sortear a quantidade total que você pediu.\n",
        "\n",
        "No final, você vê a lista dos números sorteados.\n",
        "\n",
        "Se você digitar algo que não é um número (como texto), a máquina de sorteio avisa que não entendeu e não consegue funcionar.\n",
        "\n",
        "💡 Conceitos-Chave Detalhados\n",
        "\n",
        "Módulo random: Essencial para funcionalidades de aleatoriedade.\n",
        "\n",
        "Função random.randint(a, b): A função chave aqui. Ela retorna um número inteiro aleatório N que está no intervalo fechado [a, b], ou seja, incluindo `a` e `b`. Ideal para gerar números inteiros aleatórios dentro de um intervalo definido.\n",
        "\n",
        "Entrada do Usuário (`input()`) e Conversão de Tipo (`int()`): Usadas para obter a quantidade de números, o limite inferior e o limite superior do intervalo do usuário e garantir que sejam tratados como números inteiros.\n",
        "\n",
        "Tratamento de Exceções (`try...except ValueError`): Fundamental para lidar com entradas que não podem ser convertidas para inteiro, evitando que o programa trave.\n",
        "\n",
        "Condicionais (`if quantidade_numeros <= 0` e `if limite_inferior > limite_superior`): Adicionam validações simples para garantir que as entradas do usuário façam sentido dentro do contexto do problema (quantidade positiva e intervalo válido).\n",
        "\n",
        "Laço `for` com `range()`: Usado para repetir a ação de gerar um número aleatório o número de vezes especificado pelo usuário (`quantidade_numeros`). O `_` é usado como variável do laço quando o valor da iteração em si não é necessário.\n",
        "\n",
        "Mensagens para o Usuário (`print()`): Utilizadas para interagir com o usuário, solicitar inputs, mostrar resultados e exibir mensagens de erro ou validação."
      ]
    },
    {
      "cell_type": "markdown",
      "source": [
        "14. Calculadora de Média Ponderada\n",
        "Enunciado: Implemente uma calculadora que permita ao usuário calcular a média ponderada de um conjunto de notas. O usuário deve inserir as notas e os respectivos pesos, e o programa deve calcular e exibir a média ponderada."
      ],
      "metadata": {
        "id": "j2r8C4XIRND-"
      }
    },
    {
      "cell_type": "code",
      "metadata": {
        "id": "d95df403"
      },
      "source": [
        "print(\"--- Calculadora de Média Ponderada ---\")\n",
        "\n",
        "# Listas para armazenar as notas e os pesos.\n",
        "notas = []\n",
        "pesos = []\n",
        "\n",
        "print(\"Digite as notas e seus respectivos pesos. Digite 'fim' para terminar.\")\n",
        "\n",
        "# Laço para receber as notas e pesos do usuário.\n",
        "while True:\n",
        "    entrada_nota = input(\"Digite a nota (ou 'fim'): \")\n",
        "    if entrada_nota.lower() == 'fim':\n",
        "        break\n",
        "\n",
        "    try:\n",
        "        nota = float(entrada_nota)\n",
        "\n",
        "        entrada_peso = input(f\"Digite o peso para a nota {nota}: \")\n",
        "        peso = float(entrada_peso)\n",
        "\n",
        "        # Verifica se o peso é não negativo.\n",
        "        if peso < 0:\n",
        "            print(\"Erro: O peso deve ser um número não negativo.\")\n",
        "            continue # Pula para a próxima iteração\n",
        "\n",
        "        notas.append(nota)\n",
        "        pesos.append(peso)\n",
        "\n",
        "    except ValueError:\n",
        "        print(\"Entrada inválida. Por favor, digite números válidos para nota e peso.\")\n",
        "\n",
        "# Verifica se foram inseridas notas.\n",
        "if len(notas) > 0:\n",
        "    soma_ponderada = 0\n",
        "    soma_dos_pesos = 0\n",
        "\n",
        "    # Calcula a soma ponderada e a soma dos pesos.\n",
        "    for i in range(len(notas)):\n",
        "        soma_ponderada += notas[i] * pesos[i]\n",
        "        soma_dos_pesos += pesos[i]\n",
        "\n",
        "    # Calcula a média ponderada se a soma dos pesos for maior que zero.\n",
        "    if soma_dos_pesos > 0:\n",
        "        media_ponderada = soma_ponderada / soma_dos_pesos\n",
        "        print(f\"\\n--- Resultado ---\")\n",
        "        print(f\"Notas inseridas: {notas}\")\n",
        "        print(f\"Pesos inseridos: {pesos}\")\n",
        "        print(f\"A média ponderada é: {media_ponderada:.2f}\") # Formata para 2 casas decimais\n",
        "    else:\n",
        "        print(\"\\nErro: A soma dos pesos é zero. Não é possível calcular a média ponderada.\")\n",
        "\n",
        "else:\n",
        "    print(\"\\nNenhuma nota foi inserida para calcular a média ponderada.\")"
      ],
      "execution_count": null,
      "outputs": []
    },
    {
      "cell_type": "markdown",
      "metadata": {
        "id": "060bdee0"
      },
      "source": [
        "🔎 Resumo Pós-Código (Explicação Simples)\n",
        "\n",
        "Imagine que este programa é um \"calculador de notas avançado\". Ele te ajuda a descobrir sua média quando algumas notas valem mais do que outras (têm \"peso\" diferente).\n",
        "\n",
        "Primeiro, ele te dá duas caixas vazias: uma para as \"Notas\" e outra para os \"Pesos\". Ele te pede para digitar uma nota e, em seguida, o quanto ela vale (o peso dela). Você repete isso para todas as suas notas. Quando terminar, digite \"fim\".\n",
        "\n",
        "Se você digitar algo que não é um número para a nota ou o peso, ou um peso negativo, ele avisa que não entendeu e pede para você tentar de novo.\n",
        "\n",
        "Depois que você digitou todas as notas e pesos, o calculador verifica se você realmente digitou alguma nota.\n",
        "\n",
        "Se sim, ele faz a conta: para cada nota, ele a multiplica pelo seu peso. Ele soma todos esses resultados. Ao mesmo tempo, ele soma todos os pesos que você digitou.\n",
        "\n",
        "Finalmente, ele divide a soma das notas multiplicadas pelos pesos pela soma total dos pesos. O resultado é a sua média ponderada, mostrando o quanto você se saiu considerando a importância de cada nota. Ele te mostra as notas, os pesos e a média calculada.\n",
        "\n",
        "Se você não digitou nenhuma nota ou se a soma dos pesos for zero, ele avisa que não pode calcular a média.\n",
        "\n",
        "💡 Conceitos-Chave Detalhados\n",
        "\n",
        "Listas (`notas`, `pesos`): Duas listas são usadas para armazenar os valores fornecidos pelo usuário: uma para as notas e outra para os pesos, mantendo a correspondência pela posição (a primeira nota corresponde ao primeiro peso, etc.).\n",
        "\n",
        "Entrada do Usuário (`input()`) e Conversão de Tipo (`float()`): Essenciais para obter os valores numéricos de notas e pesos do usuário.\n",
        "\n",
        "Tratamento de Exceções (`try...except ValueError`): Fundamental para lidar com entradas que não podem ser convertidas para números, evitando que o programa trave.\n",
        "\n",
        "Laço `while True` com `break`: Cria o loop principal para coletar múltiplas entradas de nota e peso do usuário até que ele digite \"fim\".\n",
        "\n",
        "Condicional `if peso < 0:`: Uma validação simples para garantir que os pesos inseridos sejam válidos (não negativos). O `continue` pula para a próxima iteração do loop `while`, pedindo uma nova nota e peso.\n",
        "\n",
        "Laço `for` com `range(len(notas))`: Usado para iterar sobre as listas `notas` e `pesos` simultaneamente, acessando os elementos pelo índice (`i`). Isso garante que cada nota seja multiplicada pelo seu peso correspondente.\n",
        "\n",
        "Variáveis Acumuladoras (`soma_ponderada`, `soma_dos_pesos`): Usadas para acumular o resultado da multiplicação nota * peso e a soma total dos pesos, respectivamente.\n",
        "\n",
        "Cálculo da Média Ponderada: A fórmula `soma_ponderada / soma_dos_pesos` implementa o cálculo da média ponderada.\n",
        "\n",
        "Verificação `if len(notas) > 0:` e `if soma_dos_pesos > 0:`: Adicionam verificações importantes para evitar erros de divisão por zero ou tentativas de cálculo com listas vazias.\n",
        "\n",
        "Formatação de String (f-strings com `:.2f`): Usada para exibir a média ponderada com duas casas decimais, padrão para resultados de cálculos desse tipo."
      ]
    },
    {
      "cell_type": "markdown",
      "source": [
        "15. Cálculo de Raiz Quadrada\n",
        "Enunciado: Desenvolva um programa que calcule a raiz quadrada de um número fornecido pelo usuário. Utilize a função sqrt() do módulo math e exiba o resultado."
      ],
      "metadata": {
        "id": "Xy3ZuxcORVir"
      }
    },
    {
      "cell_type": "code",
      "metadata": {
        "id": "61d29533"
      },
      "source": [
        "import math # Importa o módulo 'math' para usar a função sqrt().\n",
        "\n",
        "print(\"--- Calculadora de Raiz Quadrada ---\")\n",
        "\n",
        "# 1. Pede ao usuário para inserir um número não negativo.\n",
        "try:\n",
        "    numero = float(input(\"Digite um número não negativo para calcular a raiz quadrada: \"))\n",
        "\n",
        "    # 2. Verifica se o número é negativo. Raiz quadrada de números negativos (reais) não é definida.\n",
        "    if numero < 0:\n",
        "        print(\"\\nErro: Não é possível calcular a raiz quadrada de um número negativo.\")\n",
        "    else:\n",
        "        # 3. Calcula a raiz quadrada usando math.sqrt().\n",
        "        raiz_quadrada = math.sqrt(numero)\n",
        "\n",
        "        # 4. Exibe o resultado final.\n",
        "        print(f\"\\nResultado: A raiz quadrada de {numero} é {raiz_quadrada:.4f}\") # Formata para 4 casas decimais\n",
        "\n",
        "except ValueError:\n",
        "    # Executado se a entrada não for um número válido.\n",
        "    print(\"Erro: Entrada inválida. Por favor, digite um número.\")\n",
        "except Exception as e:\n",
        "    # Captura outros possíveis erros inesperados.\n",
        "    print(f\"Ocorreu um erro inesperado: {e}\")"
      ],
      "execution_count": null,
      "outputs": []
    },
    {
      "cell_type": "markdown",
      "metadata": {
        "id": "d9a0dc39"
      },
      "source": [
        "🔎 Resumo Pós-Código (Explicação Simples)\n",
        "\n",
        "Imagine que o programa é uma \"calculadora de raiz quadrada\". Primeiro, ela te pede para digitar um número que não seja negativo.\n",
        "\n",
        "Se você digitar um número negativo, ela avisa que não pode calcular a raiz quadrada dele (pelo menos não no mundo dos números que usamos normalmente aqui).\n",
        "\n",
        "Se você digitar um número zero ou positivo, a calculadora usa uma ferramenta especial (a função `sqrt()` do módulo `math`) para encontrar o número que, multiplicado por si mesmo, dá o número que você digitou.\n",
        "\n",
        "No final, ela te mostra o resultado desse cálculo.\n",
        "\n",
        "Se você digitar algo que não é um número válido, a calculadora avisa que não entendeu.\n",
        "\n",
        "💡 Conceitos-Chave Detalhados\n",
        "\n",
        "Módulo `math`: Uma biblioteca padrão do Python que fornece acesso a funções matemáticas comuns, como a raiz quadrada. Para usar funções deste módulo, é preciso importá-lo (`import math`).\n",
        "\n",
        "Função `math.sqrt()`: Esta é a função específica usada para calcular a raiz quadrada. Ela recebe um número (float ou int) como argumento e retorna sua raiz quadrada como um float. É importante notar que ela espera um número não negativo.\n",
        "\n",
        "Entrada do Usuário (`input()`) e Conversão de Tipo (`float()`): Essenciais para obter o número do usuário e garantir que ele seja tratado como um número decimal, pois a raiz quadrada pode resultar em números não inteiros.\n",
        "\n",
        "Tratamento de Exceções (`try...except ValueError`): Fundamental para lidar com entradas que não podem ser convertidas para números, evitando que o programa trave.\n",
        "\n",
        "Condicional `if numero < 0`: Uma verificação simples para garantir que o número inserido seja válido para o cálculo da raiz quadrada no domínio dos números reais.\n",
        "\n",
        "Formatação de String (f-strings com `:.4f`): Usada para exibir o resultado da raiz quadrada com um número fixo de casas decimais (neste caso, 4), tornando a saída mais precisa e legível.\n",
        "\n",
        "Mensagens para o Usuário (`print()`): Utilizadas para interagir com o usuário, solicitar inputs, mostrar resultados e exibir mensagens de erro ou validação."
      ]
    },
    {
      "cell_type": "markdown",
      "source": [
        "16. Simulador de Caixa Eletrônico\n",
        "Enunciado: Crie um programa que simule um caixa eletrônico. O usuário deve inserir o valor que deseja sacar, e o programa deve exibir quantas notas de cada valor serão entregues (R$100, R$50, R$20, R$10)."
      ],
      "metadata": {
        "id": "KgcLNNH4RpAx"
      }
    },
    {
      "cell_type": "code",
      "metadata": {
        "id": "15679313"
      },
      "source": [
        "print(\"--- Simulador de Caixa Eletrônico ---\")\n",
        "\n",
        "# Define os valores das notas disponíveis (do maior para o menor).\n",
        "notas_disponiveis = [100, 50, 20, 10]\n",
        "\n",
        "# 1. Pede ao usuário o valor que deseja sacar.\n",
        "try:\n",
        "    valor_saque = int(input(\"Digite o valor que deseja sacar (múltiplo de 10): \"))\n",
        "\n",
        "    # 2. Verifica se o valor é válido (positivo e múltiplo de 10).\n",
        "    if valor_saque <= 0:\n",
        "        print(\"\\nErro: O valor do saque deve ser positivo.\")\n",
        "    elif valor_saque % 10 != 0:\n",
        "        print(\"\\nErro: O caixa só libera notas de R$10, R$20, R$50 e R$100. Digite um valor múltiplo de 10.\")\n",
        "    else:\n",
        "        print(f\"\\nSacando R$ {valor_saque}:\")\n",
        "        valor_restante = valor_saque # Variável para controlar o valor que ainda precisa ser sacado\n",
        "\n",
        "        # 3. Itera sobre os valores das notas disponíveis.\n",
        "        for nota in notas_disponiveis:\n",
        "            # 4. Calcula quantas notas do valor atual são necessárias.\n",
        "            # // é o operador de divisão inteira (descarta a parte decimal).\n",
        "            quantidade_notas = valor_restante // nota\n",
        "\n",
        "            # 5. Verifica se é possível usar notas deste valor.\n",
        "            if quantidade_notas > 0:\n",
        "                print(f\"Entregar {quantidade_notas} nota(s) de R$ {nota}\")\n",
        "                # 6. Atualiza o valor restante subtraindo o valor entregue com as notas atuais.\n",
        "                valor_restante -= quantidade_notas * nota\n",
        "\n",
        "        # 7. Verifica se todo o valor foi sacado (deve ser zero se tudo correu bem).\n",
        "        if valor_restante == 0:\n",
        "            print(\"\\nSaque concluído com sucesso!\")\n",
        "        else:\n",
        "            # Esta parte só seria alcançada se houvesse um problema na lógica,\n",
        "            # já que validamos que o valor é múltiplo de 10.\n",
        "            print(\"\\nOcorreu um problema ao calcular as notas. Tente novamente.\")\n",
        "\n",
        "except ValueError:\n",
        "    # Executado se a entrada não for um número inteiro válido.\n",
        "    print(\"Erro: Entrada inválida. Por favor, digite um número inteiro para o valor do saque.\")\n",
        "except Exception as e:\n",
        "    # Captura outros possíveis erros inesperados.\n",
        "    print(f\"Ocorreu um erro inesperado: {e}\")"
      ],
      "execution_count": null,
      "outputs": []
    },
    {
      "cell_type": "markdown",
      "metadata": {
        "id": "0f678150"
      },
      "source": [
        "🔎 Resumo Pós-Código (Explicação Simples)\n",
        "\n",
        "Imagine que este programa é um \"caixa eletrônico de brinquedo\". Ele só tem notas de R$100, R$50, R$20 e R$10.\n",
        "\n",
        "Primeiro, você diz para o caixa quanto dinheiro quer sacar.\n",
        "\n",
        "O caixa verifica se o valor que você pediu é válido (se é um número positivo e se termina em zero, já que ele só tem notas de 10 em 10). Se não for válido, ele avisa.\n",
        "\n",
        "Se o valor for válido, o caixa começa a pensar: \"Quantas notas de R$100 eu preciso dar?\". Ele calcula o máximo de notas de R$100 que pode dar sem passar do valor pedido. Ele te diz quantas notas de R$100 vai entregar e subtrai o valor dessas notas do total que você pediu.\n",
        "\n",
        "Depois, ele pensa: \"Com o que sobrou, quantas notas de R$50 eu preciso dar?\". Ele faz a mesma conta, te diz quantas notas de R$50, e subtrai o valor.\n",
        "\n",
        "Ele repete esse processo para as notas de R$20 e R$10.\n",
        "\n",
        "No final, ele te mostra exatamente quantas notas de cada valor foram \"entregues\" para completar o saque.\n",
        "\n",
        "💡 Conceitos-Chave Detalhados\n",
        "\n",
        "Lista (`notas_disponiveis`): Uma lista é usada para armazenar os valores das notas em ordem decrescente. A ordem é importante para garantir que o caixa tente usar as notas de maior valor primeiro, otimizando a quantidade de notas entregues.\n",
        "\n",
        "Entrada do Usuário (`input()`) e Conversão de Tipo (`int()`): Essenciais para obter o valor do saque do usuário e garantir que seja tratado como um número inteiro.\n",
        "\n",
        "Tratamento de Exceções (`try...except ValueError`): Fundamental para lidar com entradas que não podem ser convertidas para inteiro.\n",
        "\n",
        "Condicionais (`if valor_saque <= 0`, `elif valor_saque % 10 != 0`): Usadas para validar a entrada do usuário, verificando se o valor é positivo e se é um múltiplo de 10 (já que as menores notas são de R$10). O operador `%` (módulo) é usado para verificar o resto da divisão por 10.\n",
        "\n",
        "Laço `for` sobre a Lista de Notas: Permite iterar por cada valor de nota disponível (100, 50, 20, 10).\n",
        "\n",
        "Divisão Inteira (`//`): O operador `//` é crucial aqui. `valor_restante // nota` calcula quantas notas do valor atual (`nota`) \"cabem\" no `valor_restante` sem deixar resto. Isso nos dá a quantidade máxima de notas desse valor que podemos usar.\n",
        "\n",
        "Variável Acumuladora/Controladora (`valor_restante`): Começa com o valor total do saque e é subtraída progressivamente (`valor_restante -= quantidade_notas * nota`) à medida que as notas são \"entregues\", controlando quanto ainda precisa ser sacado.\n",
        "\n",
        "Mensagens para o Usuário (`print()`): Utilizadas para interagir com o usuário, mostrar o processo de saque e exibir o resultado final."
      ]
    },
    {
      "cell_type": "markdown",
      "source": [
        "17. Verificador de Ano Bissexto\n",
        "Enunciado: Escreva um programa que determine se um ano fornecido pelo usuário é bissexto. O programa deve seguir as regras para anos bissextos (divisíveis por 4, exceto se divisíveis por 100, mas divisíveis por 400).\n"
      ],
      "metadata": {
        "id": "9v_NpxOXR2QP"
      }
    },
    {
      "cell_type": "code",
      "metadata": {
        "id": "8ffc8f03"
      },
      "source": [
        "print(\"--- Verificador de Ano Bissexto ---\")\n",
        "\n",
        "# 1. Pede ao usuário para inserir um ano.\n",
        "try:\n",
        "    ano = int(input(\"Digite um ano para verificar se é bissexto: \"))\n",
        "\n",
        "    # 2. Verifica se o ano é bissexto seguindo as regras.\n",
        "    # Um ano é bissexto se for divisível por 4\n",
        "    # MAS não for divisível por 100,\n",
        "    # OU se for divisível por 400.\n",
        "    if (ano % 4 == 0 and ano % 100 != 0) or (ano % 400 == 0):\n",
        "        print(f\"\\nResultado: O ano {ano} É um ano bissexto.\")\n",
        "    else:\n",
        "        print(f\"\\nResultado: O ano {ano} NÃO é um ano bissexto.\")\n",
        "\n",
        "except ValueError:\n",
        "    # Executado se a entrada não for um número inteiro válido.\n",
        "    print(\"Erro: Entrada inválida. Por favor, digite um número inteiro para o ano.\")\n",
        "except Exception as e:\n",
        "    # Captura outros possíveis erros inesperados.\n",
        "    print(f\"Ocorreu um erro inesperado: {e}\")"
      ],
      "execution_count": null,
      "outputs": []
    },
    {
      "cell_type": "markdown",
      "metadata": {
        "id": "e7f8f9bc"
      },
      "source": [
        "🔎 Resumo Pós-Código (Explicação Simples)\n",
        "\n",
        "Imagine que o programa é um \"calendário esperto\". Ele sabe exatamente as regras para saber se um ano tem um dia a mais em fevereiro (se é bissexto).\n",
        "\n",
        "Primeiro, ele te pergunta: \"Qual ano você quer verificar?\". Você digita o ano.\n",
        "\n",
        "O calendário pega o número do ano e faz uma série de \"testes de divisão\":\n",
        "\n",
        "1. Ele pergunta: \"Este ano dá para dividir por 4 sem sobrar nada?\".\n",
        "2. Se sim, ele pergunta em seguida: \"Mas, espere... este ano dá para dividir por 100 sem sobrar nada?\".\n",
        "3. Se a resposta para a primeira pergunta foi sim (divisível por 4) E a resposta para a segunda foi não (NÃO divisível por 100), então o ano é bissexto!\n",
        "4. TEM uma exceção! Se o ano DER para dividir por 400 sem sobrar nada, ele TAMBÉM é bissexto, mesmo que tenha dado para dividir por 100.\n",
        "\n",
        "O calendário faz todas essas verificações e, no final, te diz se o ano é bissexto ou não.\n",
        "\n",
        "Se você digitar algo que não é um número (como \"terça-feira\"), ele avisa que não entendeu.\n",
        "\n",
        "💡 Conceitos-Chave Detalhados\n",
        "\n",
        "Entrada do Usuário (`input()`) e Conversão de Tipo (`int()`): Essenciais para obter o ano do usuário e garantir que ele seja tratado como um número inteiro.\n",
        "\n",
        "Tratamento de Exceções (`try...except ValueError`): Fundamental para lidar com entradas que não podem ser convertidas para inteiro, evitando que o programa trave.\n",
        "\n",
        "Operador Módulo (`%`): O operador `%` é crucial aqui para verificar a divisibilidade. `ano % 4 == 0` verifica se o ano é divisível por 4, `ano % 100 != 0` verifica se o ano NÃO é divisível por 100, e `ano % 400 == 0` verifica se o ano é divisível por 400.\n",
        "\n",
        "Operadores Lógicos (`and`, `or`): Usados para combinar as condições de divisibilidade de acordo com as regras do ano bissexto:\n",
        "- `(ano % 4 == 0 and ano % 100 != 0)`: Verifica a primeira regra principal (divisível por 4 E não por 100).\n",
        "- `(ano % 400 == 0)`: Verifica a regra da exceção (divisível por 400).\n",
        "- O operador `or` combina essas duas regras: se a primeira condição for verdadeira OU a segunda for verdadeira, o ano é bissexto.\n",
        "\n",
        "Condicional `if/else`: Controla o fluxo do programa para exibir a mensagem correta (bissexto ou não) com base no resultado das verificações lógicas.\n",
        "\n",
        "Mensagens para o Usuário (`print()`): Utilizadas para interagir com o usuário, mostrar o resultado da verificação e exibir mensagens de erro."
      ]
    },
    {
      "cell_type": "markdown",
      "source": [
        "18. Gerenciador de Contatos Simples\n",
        "Enunciado: Desenvolva um sistema simples para gerenciar contatos, onde o usuário pode adicionar, remover e listar contatos (nome e telefone). Utilize um dicionário para armazenar os contatos."
      ],
      "metadata": {
        "id": "O2LhbrIrSB4z"
      }
    },
    {
      "cell_type": "code",
      "metadata": {
        "id": "8dac69d1"
      },
      "source": [
        "# 1. Inicializa um dicionário vazio para armazenar os contatos.\n",
        "# A chave será o nome e o valor será o telefone.\n",
        "contatos = {}\n",
        "\n",
        "print(\"--- Gerenciador de Contatos Simples ---\")\n",
        "\n",
        "while True:\n",
        "    # 2. Apresenta as opções para o usuário.\n",
        "    print(\"\\nEscolha uma opção:\")\n",
        "    print(\"1: Adicionar contato\")\n",
        "    print(\"2: Remover contato\")\n",
        "    print(\"3: Listar contatos\")\n",
        "    print(\"4: Sair\")\n",
        "\n",
        "    # 3. Pede a escolha do usuário.\n",
        "    escolha = input(\"Digite o número da opção desejada: \")\n",
        "\n",
        "    # 4. Processa a escolha usando if/elif/else.\n",
        "    if escolha == '1':\n",
        "        # --- Opção de Adicionar Contato ---\n",
        "        print(\"\\n--- Adicionar Novo Contato ---\")\n",
        "        nome = input(\"Digite o nome do contato: \")\n",
        "        # Verifica se o nome já existe.\n",
        "        if nome in contatos:\n",
        "            print(\"Erro: Contato com este nome já existe.\")\n",
        "        else:\n",
        "            telefone = input(\"Digite o telefone do contato: \")\n",
        "            # Armazena o novo contato no dicionário.\n",
        "            contatos[nome] = telefone\n",
        "            print(\"Contato adicionado com sucesso!\")\n",
        "\n",
        "    elif escolha == '2':\n",
        "        # --- Opção de Remover Contato ---\n",
        "        print(\"\\n--- Remover Contato ---\")\n",
        "        nome_remover = input(\"Digite o nome do contato que deseja remover: \")\n",
        "        # Verifica se o nome existe no dicionário antes de tentar remover.\n",
        "        if nome_remover in contatos:\n",
        "            # Remove o contato usando del.\n",
        "            del contatos[nome_remover]\n",
        "            print(f\"Contato '{nome_remover}' removido com sucesso!\")\n",
        "        else:\n",
        "            print(\"Erro: Contato não encontrado.\")\n",
        "\n",
        "    elif escolha == '3':\n",
        "        # --- Opção de Listar Contatos ---\n",
        "        print(\"\\n--- Lista de Contatos ---\")\n",
        "        # Verifica se há contatos no dicionário.\n",
        "        if contatos: # Uma forma concisa de verificar se o dicionário não está vazio.\n",
        "            # Itera sobre os itens (chave, valor) do dicionário para exibi-los.\n",
        "            for nome, telefone in contatos.items():\n",
        "                print(f\"Nome: {nome}, Telefone: {telefone}\")\n",
        "        else:\n",
        "            print(\"Nenhum contato cadastrado.\")\n",
        "\n",
        "    elif escolha == '4':\n",
        "        # --- Opção de Sair ---\n",
        "        print(\"Saindo do gerenciador de contatos. Até mais!\")\n",
        "        break # Interrompe o laço while.\n",
        "\n",
        "    else:\n",
        "        # --- Opção Inválida ---\n",
        "        print(\"Opção inválida. Por favor, digite 1, 2, 3 ou 4.\")"
      ],
      "execution_count": null,
      "outputs": []
    },
    {
      "cell_type": "markdown",
      "metadata": {
        "id": "8b3c38af"
      },
      "source": [
        "🔎 Resumo Pós-Código (Explicação Simples)\n",
        "\n",
        "Imagine que o programa é uma \"agenda telefônica digital\" simples. Ela tem um caderno vazio (nosso dicionário) onde guarda os nomes das pessoas e seus telefones.\n",
        "\n",
        "Quando você \"abre\" a agenda, ela te mostra o que você pode fazer: \"Adicionar um contato?\", \"Apagar um contato?\", \"Ver todos os contatos?\" ou \"Fechar a agenda?\".\n",
        "\n",
        "Se você escolher \"Adicionar\", ela pede o nome e o telefone. Ela verifica se já tem alguém com esse nome. Se não tiver, ela anota no caderno. Se já tiver, ela avisa.\n",
        "\n",
        "Se você escolher \"Apagar\", ela pede o nome da pessoa. Ela procura no caderno. Se encontrar, ela risca o nome e o telefone. Se não encontrar, avisa que não achou.\n",
        "\n",
        "Se você escolher \"Ver todos\", ela mostra todos os nomes e telefones que estão anotados no caderno. Se o caderno estiver vazio, ela avisa.\n",
        "\n",
        "Se você escolher \"Fechar\", a agenda se fecha.\n",
        "\n",
        "Se você disser algo que a agenda não entende (como digitar '5'), ela avisa que a opção é inválida.\n",
        "\n",
        "Tudo isso se repete até que você escolha fechar a agenda.\n",
        "\n",
        "💡 Conceitos-Chave Detalhados\n",
        "\n",
        "Dicionário (dict): A estrutura de dados principal. É ideal para armazenar contatos porque permite associar um nome único (a chave) a um telefone (o valor). Buscar, adicionar e remover contatos por nome é muito eficiente com dicionários.\n",
        "\n",
        "Laço `while True` com `break`: Mantém o menu do gerenciador de contatos rodando continuamente até que o usuário decida sair (opção 4).\n",
        "\n",
        "Entrada do Usuário (`input()`): Usada para obter o nome, telefone e a opção escolhida pelo usuário.\n",
        "\n",
        "Estrutura `if/elif/else`: Controla qual ação será executada com base na escolha do usuário no menu.\n",
        "\n",
        "Verificação de Existência de Chave (`if nome in contatos:`): Permite verificar rapidamente se um contato com um determinado nome já existe no dicionário antes de adicioná-lo ou removê-lo.\n",
        "\n",
        "Adicionar/Atualizar Contato (`contatos[nome] = telefone`): Se o nome não existir, cria uma nova entrada no dicionário. Se existir, atualiza o telefone associado a esse nome.\n",
        "\n",
        "Remover Contato (`del contatos[nome_remover]`): A instrução `del` é usada para remover um par chave-valor de um dicionário pela sua chave.\n",
        "\n",
        "Iterar sobre Dicionário (`for nome, telefone in contatos.items():`): O método `.items()` retorna uma visualização dos pares chave-valor do dicionário, permitindo iterar sobre eles facilmente para listar os contatos.\n",
        "\n",
        "Verificação de Dicionário Vazio (`if contatos:`): Em Python, um dicionário vazio (`{}`) é considerado \"falso\" em um contexto booleano. Portanto, `if contatos:` é uma forma concisa de verificar se o dicionário contém algum item (se não está vazio).\n",
        "\n",
        "Mensagens para o Usuário (`print()`): Utilizadas para apresentar o menu, solicitar inputs, fornecer feedback sobre as operações e exibir a lista de contatos."
      ]
    },
    {
      "cell_type": "markdown",
      "source": [
        "19. Calculadora de Desconto\n",
        "Enunciado: Crie um programa que calcule o preço final de um produto após a aplicação de um desconto. O usuário deve inserir o preço original e a porcentagem de desconto, e o programa deve exibir o preço final."
      ],
      "metadata": {
        "id": "eZPVMhzzSOY4"
      }
    },
    {
      "cell_type": "code",
      "metadata": {
        "id": "12359edc"
      },
      "source": [
        "print(\"--- Calculadora de Desconto ---\")\n",
        "\n",
        "# 1. Pede ao usuário o preço original do produto.\n",
        "try:\n",
        "    preco_original = float(input(\"Digite o preço original do produto: \"))\n",
        "\n",
        "    # 2. Verifica se o preço original é positivo.\n",
        "    if preco_original < 0:\n",
        "        print(\"\\nErro: O preço original deve ser positivo.\")\n",
        "    else:\n",
        "        # 3. Pede ao usuário a porcentagem de desconto.\n",
        "        porcentagem_desconto = float(input(\"Digite a porcentagem de desconto (ex: 15 para 15%): \"))\n",
        "\n",
        "        # 4. Verifica se a porcentagem de desconto é válida (entre 0 e 100).\n",
        "        if porcentagem_desconto < 0 or porcentagem_desconto > 100:\n",
        "            print(\"\\nErro: A porcentagem de desconto deve estar entre 0 e 100.\")\n",
        "        else:\n",
        "            # 5. Calcula o valor do desconto e o preço final.\n",
        "            valor_desconto = preco_original * (porcentagem_desconto / 100)\n",
        "            preco_final = preco_original - valor_desconto\n",
        "\n",
        "            # 6. Exibe os resultados.\n",
        "            print(f\"\\n--- Resultado ---\")\n",
        "            print(f\"Preço Original: R$ {preco_original:.2f}\")\n",
        "            print(f\"Desconto Aplicado: {porcentagem_desconto:.2f}%\")\n",
        "            print(f\"Valor do Desconto: R$ {valor_desconto:.2f}\")\n",
        "            print(f\"Preço Final: R$ {preco_final:.2f}\") # Formata para 2 casas decimais\n",
        "\n",
        "except ValueError:\n",
        "    # Executado se a entrada não for um número válido.\n",
        "    print(\"Erro: Entrada inválida. Por favor, digite números válidos para preço e porcentagem.\")\n",
        "except Exception as e:\n",
        "    # Captura outros possíveis erros inesperados.\n",
        "    print(f\"Ocorreu um erro inesperado: {e}\")"
      ],
      "execution_count": null,
      "outputs": []
    },
    {
      "cell_type": "markdown",
      "metadata": {
        "id": "bece8988"
      },
      "source": [
        "🔎 Resumo Pós-Código (Explicação Simples)\n",
        "\n",
        "Imagine que o programa é uma \"caixa registradora com desconto\". Primeiro, ela te pergunta quanto custa o produto sem desconto.\n",
        "\n",
        "Depois, ela pergunta: \"Quantos por cento de desconto você quer aplicar?\". Você diz a porcentagem.\n",
        "\n",
        "A caixa registradora verifica se o preço e a porcentagem fazem sentido (se o preço é positivo e o desconto está entre 0 e 100%). Se algo estiver errado, ela avisa.\n",
        "\n",
        "Se tudo estiver certo, ela faz a conta: primeiro calcula quanto dinheiro o desconto representa (a porcentagem do preço original). Depois, ela tira esse valor do preço original para descobrir o preço final.\n",
        "\n",
        "No final, ela te mostra o preço inicial, quanto de desconto foi aplicado, o valor que isso representa, e o preço que você vai pagar no final.\n",
        "\n",
        "Se você digitar algo que não é um número (como texto), a caixa registradora avisa que não entendeu.\n",
        "\n",
        "💡 Conceitos-Chave Detalhados\n",
        "\n",
        "Entrada do Usuário (`input()`) e Conversão de Tipo (`float()`): Essenciais para obter o preço original e a porcentagem de desconto do usuário e garantir que sejam tratados como números decimais para os cálculos.\n",
        "\n",
        "Tratamento de Exceções (`try...except ValueError`): Fundamental para lidar com entradas que não podem ser convertidas para números, evitando que o programa trave.\n",
        "\n",
        "Condicionais (`if preco_original < 0` e `if porcentagem_desconto < 0 or porcentagem_desconto > 100`): Adicionam validações importantes para garantir que as entradas do usuário sejam válidas dentro do contexto do problema (preço positivo e porcentagem entre 0 e 100).\n",
        "\n",
        "Cálculo do Desconto: A lógica `valor_desconto = preco_original * (porcentagem_desconto / 100)` calcula o valor monetário do desconto.\n",
        "\n",
        "Cálculo do Preço Final: A lógica `preco_final = preco_original - valor_desconto` subtrai o valor do desconto do preço original para obter o preço final.\n",
        "\n",
        "Formatação de String (f-strings com `:.2f`): Usada para exibir os valores monetários com duas casas decimais, padrão para dinheiro, tornando a saída mais amigável e legível.\n",
        "\n",
        "Mensagens para o Usuário (`print()`): Utilizadas para interagir com o usuário, solicitar inputs, mostrar os resultados dos cálculos e exibir mensagens de erro ou validação."
      ]
    },
    {
      "cell_type": "markdown",
      "source": [
        "20. Análise de Dados Simples com Pandas e Matplotlib\n",
        "Enunciado: Utilize o Pandas para carregar um dataset simples, como o conjunto de dados do Titanic ou Iris, disponível na biblioteca seaborn. Realize uma análise básica para calcular estatísticas descritivas, como média e mediana de colunas numéricas. Em seguida, utilize o Matplotlib para criar gráficos simples (como histogramas ou gráficos de barras) que visualizem algumas dessas estatísticas ou distribuições."
      ],
      "metadata": {
        "id": "nyqrbXL4SXMe"
      }
    },
    {
      "cell_type": "code",
      "metadata": {
        "id": "4f750750"
      },
      "source": [
        "# Instala as bibliotecas necessárias\n",
        "%pip install pandas matplotlib seaborn"
      ],
      "execution_count": null,
      "outputs": []
    },
    {
      "cell_type": "code",
      "metadata": {
        "id": "e4c5bc06"
      },
      "source": [
        "import pandas as pd\n",
        "import matplotlib.pyplot as plt\n",
        "import seaborn as sns\n",
        "\n",
        "print(\"--- Análise de Dados Simples ---\")\n",
        "\n",
        "# 1. Carrega um dataset de exemplo (usaremos o dataset Iris do seaborn)\n",
        "try:\n",
        "    # Carrega o dataset Iris\n",
        "    iris_df = sns.load_dataset('iris')\n",
        "    print(\"\\nDataset Iris carregado com sucesso:\")\n",
        "    # Exibe as primeiras linhas do dataset\n",
        "    display(iris_df.head())\n",
        "\n",
        "    # 2. Realiza análise básica: estatísticas descritivas\n",
        "    print(\"\\nEstatísticas Descritivas das colunas numéricas:\")\n",
        "    # O método .describe() calcula várias estatísticas para colunas numéricas\n",
        "    display(iris_df.describe())\n",
        "\n",
        "    # Calcula média e mediana de uma coluna específica (ex: 'sepal_length')\n",
        "    media_sepal_length = iris_df['sepal_length'].mean()\n",
        "    mediana_sepal_length = iris_df['sepal_length'].median()\n",
        "\n",
        "    print(f\"\\nMédia do 'sepal_length': {media_sepal_length:.2f}\")\n",
        "    print(f\"Mediana do 'sepal_length': {mediana_sepal_length:.2f}\")\n",
        "\n",
        "    # 3. Cria visualizações simples\n",
        "    print(\"\\nGerando visualizações:\")\n",
        "\n",
        "    # Histograma da coluna 'sepal_length'\n",
        "    plt.figure(figsize=(8, 6)) # Define o tamanho da figura\n",
        "    sns.histplot(data=iris_df, x='sepal_length', kde=True) # Cria o histograma com curva de densidade\n",
        "    plt.title('Distribuição do Comprimento da Sépala') # Define o título\n",
        "    plt.xlabel('Comprimento da Sépala (cm)') # Define o rótulo do eixo X\n",
        "    plt.ylabel('Frequência') # Define o rótulo do eixo Y\n",
        "    plt.show() # Exibe o gráfico\n",
        "\n",
        "    # Gráfico de barras da contagem de cada espécie\n",
        "    plt.figure(figsize=(8, 6))\n",
        "    sns.countplot(data=iris_df, x='species') # Cria o gráfico de contagem por espécie\n",
        "    plt.title('Contagem de Espécies no Dataset Iris')\n",
        "    plt.xlabel('Espécie')\n",
        "    plt.ylabel('Contagem')\n",
        "    plt.show() # Exibe o gráfico\n",
        "\n",
        "except Exception as e:\n",
        "    print(f\"\\nOcorreu um erro durante a análise ou visualização: {e}\")"
      ],
      "execution_count": null,
      "outputs": []
    },
    {
      "cell_type": "markdown",
      "metadata": {
        "id": "3ec9f447"
      },
      "source": [
        "🔎 Resumo Pós-Código (Explicação Simples)\n",
        "\n",
        "Imagine que este programa é um \"analista de dados iniciante\". Ele sabe como pegar dados de um lugar (um dataset sobre flores Iris, neste caso), fazer algumas contas rápidas com eles e depois desenhar gráficos para mostrar o que encontrou.\n",
        "\n",
        "Primeiro, ele pega os dados das flores. Ele te mostra um pedacinho dos dados para você ver como são.\n",
        "\n",
        "Depois, ele faz um \"resumo numérico\" dos dados, calculando coisas como a média e a mediana (o valor do meio) para as partes numéricas, como o comprimento das sépalas. Ele te mostra esses números.\n",
        "\n",
        "Para que você entenda melhor, o analista desenha dois tipos de gráficos:\n",
        "\n",
        "1. Um gráfico que mostra como o comprimento das sépalas se distribui (quantas flores têm sépalas curtas, médias, longas, etc.).\n",
        "2. Um gráfico que mostra quantas flores de cada tipo (espécie) existem no conjunto de dados.\n",
        "\n",
        "No final, ele te apresenta os gráficos para você \"ver\" os dados de forma mais clara. Se algo der errado ao carregar os dados ou fazer as contas, ele avisa.\n",
        "\n",
        "💡 Conceitos-Chave Detalhados\n",
        "\n",
        "Biblioteca Pandas: Uma ferramenta poderosa para trabalhar com dados estruturados (como tabelas). A usamos para carregar o dataset (`sns.load_dataset`) em um DataFrame (`iris_df`), que é a estrutura de dados principal do Pandas. O método `.describe()` é um atalho rápido para obter estatísticas descritivas básicas. `.mean()` e `.median()` são métodos de Series (colunas de um DataFrame) para calcular a média e a mediana.\n",
        "\n",
        "Biblioteca Matplotlib: Uma biblioteca fundamental para criar visualizações estáticas em Python. Usamos `matplotlib.pyplot` (geralmente importado como `plt`) para configurar e exibir os gráficos. `plt.figure()` cria uma nova figura para o gráfico, `plt.title()`, `plt.xlabel()`, `plt.ylabel()` definem os textos do gráfico, e `plt.show()` exibe a figura.\n",
        "\n",
        "Biblioteca Seaborn: Construída sobre o Matplotlib, o Seaborn facilita a criação de gráficos estatísticos atraentes. Usamos `seaborn` (geralmente importado como `sns`) para carregar o dataset de exemplo (`sns.load_dataset`) e para criar os gráficos (`sns.histplot` para histograma e `sns.countplot` para gráfico de contagem). O argumento `data=iris_df` especifica qual DataFrame usar, e `x='coluna'` especifica qual coluna usar no eixo X.\n",
        "\n",
        "Dataset 'iris': Um conjunto de dados clássico em machine learning e estatística, contendo medidas de sépalas e pétalas para três espécies de flores Iris. É frequentemente usado para exemplos e aprendizado.\n",
        "\n",
        "Estatísticas Descritivas: Métricas que resumem as características principais de um conjunto de dados, como média (valor médio), mediana (valor do meio), desvio padrão, mínimo, máximo, etc. O método `.describe()` do Pandas calcula várias delas automaticamente.\n",
        "\n",
        "Visualização de Dados: O uso de gráficos e outros elementos visuais para representar dados, tornando padrões, tendências e distribuições mais fáceis de entender. Histogramas mostram a distribuição de uma única variável numérica, e gráficos de barras de contagem mostram a frequência de categorias."
      ]
    }
  ]
}