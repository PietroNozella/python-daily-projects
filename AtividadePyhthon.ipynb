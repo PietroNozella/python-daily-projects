{
  "nbformat": 4,
  "nbformat_minor": 0,
  "metadata": {
    "colab": {
      "provenance": [],
      "authorship_tag": "ABX9TyOBC3OxhB90dQBw7zb1p4yG",
      "include_colab_link": true
    },
    "kernelspec": {
      "name": "python3",
      "display_name": "Python 3"
    },
    "language_info": {
      "name": "python"
    }
  },
  "cells": [
    {
      "cell_type": "markdown",
      "metadata": {
        "id": "view-in-github",
        "colab_type": "text"
      },
      "source": [
        "<a href=\"https://colab.research.google.com/github/PietroNozella/python-daily-projects/blob/main/AtividadePyhthon.ipynb\" target=\"_parent\"><img src=\"https://colab.research.google.com/assets/colab-badge.svg\" alt=\"Open In Colab\"/></a>"
      ]
    },
    {
      "cell_type": "code",
      "execution_count": null,
      "metadata": {
        "colab": {
          "base_uri": "https://localhost:8080/"
        },
        "id": "Yez73wnwdkdJ",
        "outputId": "6f860749-5e42-443b-b6eb-1431bd1f8ff5"
      },
      "outputs": [
        {
          "output_type": "stream",
          "name": "stdout",
          "text": [
            "Hello world\n"
          ]
        }
      ],
      "source": [
        "#Printar um hello world\n",
        "\n",
        "print(\"Hello world\")\n",
        "\n"
      ]
    },
    {
      "cell_type": "markdown",
      "source": [
        "🧠 Em resumo:\n",
        "print(\"Hello, World!\") não é só uma frase — é uma porta de entrada para o mundo da programação. Ele representa o primeiro passo prático de escrever algo, rodar e ver o computador reagir ao seu comando."
      ],
      "metadata": {
        "id": "pdRma2Zue81S"
      }
    },
    {
      "cell_type": "code",
      "source": [
        "#Algumas variáveis armazenando dados\n",
        "\n",
        "nome = \"João\"\n",
        "idade = 21\n",
        "altura = 1.75\n",
        "print(nome, idade, altura)"
      ],
      "metadata": {
        "colab": {
          "base_uri": "https://localhost:8080/"
        },
        "id": "it9_Om8Le_Qt",
        "outputId": "695b7112-1322-4b01-eb60-80569fdec839"
      },
      "execution_count": null,
      "outputs": [
        {
          "output_type": "stream",
          "name": "stdout",
          "text": [
            "João 21 1.75\n"
          ]
        }
      ]
    },
    {
      "cell_type": "markdown",
      "source": [
        "Tipos de dados que posso ter em python: str para texto, int para número inteiro, float para decimal, bool para verdadeiro ou falso, list para uma lista, tuple para tupla, dict para dicionário, set para conjunto."
      ],
      "metadata": {
        "id": "UOOMtErvgXOK"
      }
    },
    {
      "cell_type": "code",
      "source": [
        "#exemplo de operações aritméticas básicas\n",
        "\n",
        "a = 10\n",
        "b = 5\n",
        "\n",
        "soma = (a + b)\n",
        "print (soma)\n",
        "\n",
        "subtração = (a - b)\n",
        "print(subtração)\n",
        "\n",
        "multiplicação = (a * b)\n",
        "print(multiplicação)\n",
        "\n",
        "divisão = (a / b)\n",
        "print(divisão)\n",
        "\n"
      ],
      "metadata": {
        "colab": {
          "base_uri": "https://localhost:8080/"
        },
        "id": "94jW94slhh3d",
        "outputId": "45e3fb28-484c-414d-c35a-1ae4a23640de"
      },
      "execution_count": null,
      "outputs": [
        {
          "output_type": "stream",
          "name": "stdout",
          "text": [
            "15\n",
            "5\n",
            "50\n",
            "2.0\n"
          ]
        }
      ]
    },
    {
      "cell_type": "code",
      "source": [
        "# Calculadora simples\n",
        "\n",
        "# Entrada de dados\n",
        "num1 = float(input(\"Digite o primeiro número: \"))\n",
        "num2 = float(input(\"Digite o segundo número: \"))\n",
        "operacao = input(\"Escolha a operação (+, -, *, /): \")\n",
        "\n",
        "# Processamento\n",
        "if operacao == \"+\":\n",
        "    resultado = num1 + num2\n",
        "elif operacao == \"-\":\n",
        "    resultado = num1 - num2\n",
        "elif operacao == \"*\":\n",
        "    resultado = num1 * num2\n",
        "elif operacao == \"/\":\n",
        "    if num2 != 0:\n",
        "        resultado = num1 / num2\n",
        "    else:\n",
        "        resultado = \"Erro: divisão por zero!\"\n",
        "else:\n",
        "    resultado = \"Operação inválida.\"\n",
        "\n",
        "# Saída\n",
        "print(\"Resultado:\", resultado)\n"
      ],
      "metadata": {
        "colab": {
          "base_uri": "https://localhost:8080/"
        },
        "id": "QmSePRxOjPOj",
        "outputId": "f4f45b60-76ad-4525-d274-076c1c73672d"
      },
      "execution_count": null,
      "outputs": [
        {
          "output_type": "stream",
          "name": "stdout",
          "text": [
            "Digite o primeiro número: 10\n",
            "Digite o segundo número: 2\n",
            "Escolha a operação (+, -, *, /): +\n",
            "Resultado: 12.0\n"
          ]
        }
      ]
    },
    {
      "cell_type": "code",
      "source": [
        "# Conversor de Temperaturas\n",
        "\n",
        "print(\"Conversor de Temperaturas\")\n",
        "print(\"Escolha a escala de origem:\")\n",
        "print(\"1 - Celsius\")\n",
        "print(\"2 - Fahrenheit\")\n",
        "print(\"3 - Kelvin\")\n",
        "\n",
        "origem = int(input(\"Digite o número da escala de origem: \"))\n",
        "temp = float(input(\"Digite a temperatura: \"))\n",
        "\n",
        "print(\"Escolha a escala de destino:\")\n",
        "print(\"1 - Celsius\")\n",
        "print(\"2 - Fahrenheit\")\n",
        "print(\"3 - Kelvin\")\n",
        "\n",
        "destino = int(input(\"Digite o número da escala de destino: \"))\n",
        "\n",
        "# Funções de conversão\n",
        "def celsius_para_fahrenheit(c):\n",
        "    return (c * 9/5) + 32\n",
        "\n",
        "def celsius_para_kelvin(c):\n",
        "    return c + 273.15\n",
        "\n",
        "def fahrenheit_para_celsius(f):\n",
        "    return (f - 32) * 5/9\n",
        "\n",
        "def fahrenheit_para_kelvin(f):\n",
        "    return (f + 459.67) * 5/9\n",
        "\n",
        "def kelvin_para_celsius(k):\n",
        "    return k - 273.15\n",
        "\n",
        "def kelvin_para_fahrenheit(k):\n",
        "    return (k * 9/5) - 459.67\n",
        "\n",
        "# Conversão\n",
        "if origem == 1:  # Celsius\n",
        "    if destino == 1:\n",
        "        resultado = temp\n",
        "    elif destino == 2:\n",
        "        resultado = celsius_para_fahrenheit(temp)\n",
        "    elif destino == 3:\n",
        "        resultado = celsius_para_kelvin(temp)\n",
        "    else:\n",
        "        resultado = \"Destino inválido.\"\n",
        "elif origem == 2:  # Fahrenheit\n",
        "    if destino == 1:\n",
        "        resultado = fahrenheit_para_celsius(temp)\n",
        "    elif destino == 2:\n",
        "        resultado = temp\n",
        "    elif destino == 3:\n",
        "        resultado = fahrenheit_para_kelvin(temp)\n",
        "    else:\n",
        "        resultado = \"Destino inválido.\"\n",
        "elif origem == 3:  # Kelvin\n",
        "    if destino == 1:\n",
        "        resultado = kelvin_para_celsius(temp)\n",
        "    elif destino == 2:\n",
        "        resultado = kelvin_para_fahrenheit(temp)\n",
        "    elif destino == 3:\n",
        "        resultado = temp\n",
        "    else:\n",
        "        resultado = \"Destino inválido.\"\n",
        "else:\n",
        "    resultado = \"Origem inválida.\"\n",
        "\n",
        "# Saída\n",
        "print(\"Resultado da conversão:\", resultado)\n"
      ],
      "metadata": {
        "colab": {
          "base_uri": "https://localhost:8080/"
        },
        "id": "6vStKGMhk5Wp",
        "outputId": "f8cfd909-ba41-41ed-afec-d51aee815b7d"
      },
      "execution_count": null,
      "outputs": [
        {
          "output_type": "stream",
          "name": "stdout",
          "text": [
            "Conversor de Temperaturas\n",
            "Escolha a escala de origem:\n",
            "1 - Celsius\n",
            "2 - Fahrenheit\n",
            "3 - Kelvin\n",
            "Digite o número da escala de origem: 1\n",
            "Digite a temperatura: 15\n",
            "Escolha a escala de destino:\n",
            "1 - Celsius\n",
            "2 - Fahrenheit\n",
            "3 - Kelvin\n",
            "Digite o número da escala de destino: 2\n",
            "Resultado da conversão: 59.0\n"
          ]
        }
      ]
    },
    {
      "cell_type": "code",
      "source": [
        "# Contador de Palavras\n",
        "\n",
        "# Entrada do usuário\n",
        "frase = input(\"Digite uma frase: \")\n",
        "\n",
        "# Quebra a frase em palavras (separadas por espaço)\n",
        "palavras = frase.split()\n",
        "\n",
        "# Conta quantas palavras há na lista\n",
        "quantidade = len(palavras)\n",
        "\n",
        "# Exibe o resultado\n",
        "print(\"Número de palavras:\", quantidade)\n"
      ],
      "metadata": {
        "colab": {
          "base_uri": "https://localhost:8080/"
        },
        "id": "uwpz2PDzlPJc",
        "outputId": "969647cb-83a1-4ac8-ca83-329f0462a74e"
      },
      "execution_count": null,
      "outputs": [
        {
          "output_type": "stream",
          "name": "stdout",
          "text": [
            "Digite uma frase: Ola mundo\n",
            "Número de palavras: 2\n"
          ]
        }
      ]
    },
    {
      "cell_type": "code",
      "source": [
        "# Função para exibir o tabuleiro no terminal\n",
        "def mostrar_tabuleiro(tabuleiro):\n",
        "    print(\"\\n\")\n",
        "    print(\" \", tabuleiro[0], \"|\", tabuleiro[1], \"|\", tabuleiro[2])\n",
        "    print(\" ———|———|———\")\n",
        "    print(\" \", tabuleiro[3], \"|\", tabuleiro[4], \"|\", tabuleiro[5])\n",
        "    print(\" ———|———|———\")\n",
        "    print(\" \", tabuleiro[6], \"|\", tabuleiro[7], \"|\", tabuleiro[8])\n",
        "    print(\"\\n\")\n",
        "\n",
        "\n",
        "# Função para verificar se um jogador venceu\n",
        "def verificar_vencedor(tabuleiro, jogador):\n",
        "    # Todas as combinações possíveis de vitória (linhas, colunas e diagonais)\n",
        "    combinacoes = [\n",
        "        [0, 1, 2], [3, 4, 5], [6, 7, 8],  # Linhas\n",
        "        [0, 3, 6], [1, 4, 7], [2, 5, 8],  # Colunas\n",
        "        [0, 4, 8], [2, 4, 6]              # Diagonais\n",
        "    ]\n",
        "    # Verifica se alguma das combinações foi completada pelo jogador\n",
        "    for combo in combinacoes:\n",
        "        if tabuleiro[combo[0]] == tabuleiro[combo[1]] == tabuleiro[combo[2]] == jogador:\n",
        "            return True\n",
        "    return False\n",
        "\n",
        "\n",
        "# Função principal que executa o jogo da velha\n",
        "def jogo_da_velha():\n",
        "    while True:  # Loop para permitir várias partidas\n",
        "        # Inicializa o tabuleiro com os números de 1 a 9 (espaços disponíveis)\n",
        "        tabuleiro = [\"1\", \"2\", \"3\", \"4\", \"5\", \"6\", \"7\", \"8\", \"9\"]\n",
        "        jogador_atual = \"X\"  # Começa com o jogador X\n",
        "        jogadas = 0  # Contador de jogadas realizadas\n",
        "        venceu = False  # Indica se alguém venceu\n",
        "\n",
        "        print(\"🎮 Bem-vindo ao Jogo da Velha!\")\n",
        "        mostrar_tabuleiro(tabuleiro)  # Exibe o tabuleiro inicial\n",
        "\n",
        "        # Loop principal do jogo (no máximo 9 jogadas)\n",
        "        while jogadas < 9:\n",
        "            try:\n",
        "                # Solicita a posição que o jogador deseja marcar\n",
        "                escolha = int(input(f\"Jogador {jogador_atual}, escolha uma posição (1-9): \"))\n",
        "\n",
        "                # Valida se a escolha está dentro do intervalo permitido\n",
        "                if escolha < 1 or escolha > 9:\n",
        "                    print(\"❗ Escolha inválida. Tente de 1 a 9.\")\n",
        "                    continue\n",
        "\n",
        "                # Verifica se a posição já está ocupada\n",
        "                if tabuleiro[escolha - 1] in [\"X\", \"O\"]:\n",
        "                    print(\"❗ Posição já ocupada. Escolha outra.\")\n",
        "                    continue\n",
        "\n",
        "                # Marca a jogada no tabuleiro\n",
        "                tabuleiro[escolha - 1] = jogador_atual\n",
        "                mostrar_tabuleiro(tabuleiro)\n",
        "                jogadas += 1  # Incrementa o número de jogadas\n",
        "\n",
        "                # Verifica se o jogador atual venceu\n",
        "                if verificar_vencedor(tabuleiro, jogador_atual):\n",
        "                    print(f\"🏆 Jogador {jogador_atual} venceu!\")\n",
        "                    venceu = True\n",
        "                    break\n",
        "\n",
        "                # Alterna o jogador (X ↔ O)\n",
        "                jogador_atual = \"O\" if jogador_atual == \"X\" else \"X\"\n",
        "            except ValueError:\n",
        "                print(\"❗ Entrada inválida. Digite um número.\")\n",
        "\n",
        "        # Se ninguém venceu após 9 jogadas\n",
        "        if not venceu:\n",
        "            print(\"🤝 Empate!\")\n",
        "\n",
        "        # Pergunta se o usuário quer jogar novamente\n",
        "        repetir = input(\"Deseja jogar novamente? (s/n): \").lower()\n",
        "        if repetir != \"s\":\n",
        "            print(\"👋 Obrigado por jogar!\")\n",
        "            break\n",
        "\n",
        "\n",
        "# Chamada da função principal\n",
        "jogo_da_velha()\n"
      ],
      "metadata": {
        "colab": {
          "base_uri": "https://localhost:8080/"
        },
        "id": "UE-X52uYm9Rh",
        "outputId": "79a20e87-4867-403c-ee62-2b0bb18be851"
      },
      "execution_count": null,
      "outputs": [
        {
          "output_type": "stream",
          "name": "stdout",
          "text": [
            "🎮 Bem-vindo ao Jogo da Velha!\n",
            "\n",
            "\n",
            "  1 | 2 | 3\n",
            " ———|———|———\n",
            "  4 | 5 | 6\n",
            " ———|———|———\n",
            "  7 | 8 | 9\n",
            "\n",
            "\n",
            "Jogador X, escolha uma posição (1-9): 1\n",
            "\n",
            "\n",
            "  X | 2 | 3\n",
            " ———|———|———\n",
            "  4 | 5 | 6\n",
            " ———|———|———\n",
            "  7 | 8 | 9\n",
            "\n",
            "\n",
            "Jogador O, escolha uma posição (1-9): 4\n",
            "\n",
            "\n",
            "  X | 2 | 3\n",
            " ———|———|———\n",
            "  O | 5 | 6\n",
            " ———|———|———\n",
            "  7 | 8 | 9\n",
            "\n",
            "\n",
            "Jogador X, escolha uma posição (1-9): 2\n",
            "\n",
            "\n",
            "  X | X | 3\n",
            " ———|———|———\n",
            "  O | 5 | 6\n",
            " ———|———|———\n",
            "  7 | 8 | 9\n",
            "\n",
            "\n",
            "Jogador O, escolha uma posição (1-9): 5\n",
            "\n",
            "\n",
            "  X | X | 3\n",
            " ———|———|———\n",
            "  O | O | 6\n",
            " ———|———|———\n",
            "  7 | 8 | 9\n",
            "\n",
            "\n",
            "Jogador X, escolha uma posição (1-9): 3\n",
            "\n",
            "\n",
            "  X | X | X\n",
            " ———|———|———\n",
            "  O | O | 6\n",
            " ———|———|———\n",
            "  7 | 8 | 9\n",
            "\n",
            "\n",
            "🏆 Jogador X venceu!\n",
            "Deseja jogar novamente? (s/n): n\n",
            "👋 Obrigado por jogar!\n"
          ]
        }
      ]
    },
    {
      "cell_type": "markdown",
      "source": [
        "📌 Descrição:\n",
        "Este é um jogo da velha (tic-tac-toe) para dois jogadores, executado no terminal. O jogo permite marcar posições de 1 a 9 em um tabuleiro 3x3, alternando entre os jogadores \"X\" e \"O\", e determinando o vencedor ou empate.\n",
        "\n",
        "🧠 Estrutura do Código:\n",
        "🔹 mostrar_tabuleiro(tabuleiro)\n",
        "Exibe o tabuleiro atual no terminal.\n",
        "\n",
        "Formata os dados em uma grade 3x3.\n",
        "\n",
        "🔹 verificar_vencedor(tabuleiro, jogador)\n",
        "Verifica se o jogador atual venceu o jogo.\n",
        "\n",
        "Avalia todas as combinações possíveis (linhas, colunas, diagonais).\n",
        "\n",
        "🔹 jogo_da_velha()\n",
        "Função principal do jogo.\n",
        "\n",
        "Controla a lógica de turnos, entradas do usuário, validações, verificação de vitória/empate e reinício."
      ],
      "metadata": {
        "id": "n_9KGAf4naGM"
      }
    },
    {
      "cell_type": "markdown",
      "source": [
        "A facilidade de ter uma construção rápida e prática de um script é satisfatória, os comentários para auxiliar no entendimento também é muito útil, porém a parte complexa é fazer a análise do código de forma minuciosa para não passar nenhum erro despercebido. Usar o Chat poupa o tempo de codar, liberando espaço para aumentar a criatividade na hora de montar o script, acredito que seja a maior vantagem, ao meu ver.\n"
      ],
      "metadata": {
        "id": "5vVry4IFnv1-"
      }
    }
  ]
}