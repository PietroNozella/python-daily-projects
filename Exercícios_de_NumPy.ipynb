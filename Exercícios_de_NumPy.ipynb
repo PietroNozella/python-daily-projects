{
  "nbformat": 4,
  "nbformat_minor": 0,
  "metadata": {
    "colab": {
      "provenance": [],
      "authorship_tag": "ABX9TyPXR5jRTjuWNKg2amHeJuV+",
      "include_colab_link": true
    },
    "kernelspec": {
      "name": "python3",
      "display_name": "Python 3"
    },
    "language_info": {
      "name": "python"
    }
  },
  "cells": [
    {
      "cell_type": "markdown",
      "metadata": {
        "id": "view-in-github",
        "colab_type": "text"
      },
      "source": [
        "<a href=\"https://colab.research.google.com/github/PietroNozella/python-daily-projects/blob/main/Exerc%C3%ADcios_de_NumPy.ipynb\" target=\"_parent\"><img src=\"https://colab.research.google.com/assets/colab-badge.svg\" alt=\"Open In Colab\"/></a>"
      ]
    },
    {
      "cell_type": "markdown",
      "source": [
        "1. Criando e manipulando arrays numpy."
      ],
      "metadata": {
        "id": "t4Ytfihdn3pD"
      }
    },
    {
      "cell_type": "code",
      "source": [
        "import numpy as np\n",
        "\n",
        "#criar um array 3x3 com valores aleatórios\n",
        "array = np.random.random((3,3))\n",
        "print (\"Array Original\")\n",
        "print (array)\n",
        "\n",
        "#encontrar o maior valor\n",
        "max_value = np.max(array)\n",
        "print (\"Maior valor:\", max_value)\n",
        "\n",
        "#encontrar o menor valor\n",
        "min_value = np.min(array)\n",
        "print (\"Menor valor:\", min_value)\n",
        "\n",
        "#somar os elementos do array\n",
        "sum_elements = np.sum(array)\n",
        "print (\"Soma dos elementos:\", sum_elements)"
      ],
      "metadata": {
        "colab": {
          "base_uri": "https://localhost:8080/"
        },
        "id": "4VRsPBZAq5-b",
        "outputId": "4cf6f426-7797-412f-cc21-99df015250c1"
      },
      "execution_count": 4,
      "outputs": [
        {
          "output_type": "stream",
          "name": "stdout",
          "text": [
            "Array Original\n",
            "[[0.6316984  0.58998646 0.2146814 ]\n",
            " [0.52947354 0.92001194 0.88442324]\n",
            " [0.09702721 0.92166315 0.00456483]]\n",
            "Maior valor: 0.9216631538909537\n",
            "Menor valor: 0.004564827622422052\n",
            "Soma dos elementos: 4.793530172402547\n"
          ]
        }
      ]
    },
    {
      "cell_type": "markdown",
      "source": [
        "2. Produto escalar entre vetores"
      ],
      "metadata": {
        "id": "xKp5DnSqsJsm"
      }
    },
    {
      "cell_type": "code",
      "source": [
        "import numpy as np\n",
        "\n",
        "#criar dois vetores\n",
        "vetor1 = np.array([1, 2, 3])\n",
        "vetor2 = np.array([4, 5, 6])\n",
        "\n",
        "#calcular o produto escalar\n",
        "produto_escalar = np.dot(vetor1, vetor2)\n",
        "\n",
        "print(\"Vetor 1:\", vetor1)\n",
        "print(\"Vetor 2:\", vetor2)\n",
        "\n",
        "print(\"Produto Escalar:\", produto_escalar)\n"
      ],
      "metadata": {
        "colab": {
          "base_uri": "https://localhost:8080/"
        },
        "id": "SjIzru8UsTEF",
        "outputId": "c2c41367-ae0f-414e-c260-7880fc562789"
      },
      "execution_count": 6,
      "outputs": [
        {
          "output_type": "stream",
          "name": "stdout",
          "text": [
            "Vetor 1: [1 2 3]\n",
            "Vetor 2: [4 5 6]\n",
            "Produto Escalar: 32\n"
          ]
        }
      ]
    },
    {
      "cell_type": "markdown",
      "source": [
        "3. Operações matemáticas elementares."
      ],
      "metadata": {
        "id": "h6Lmm8_ft90P"
      }
    },
    {
      "cell_type": "code",
      "source": [
        "import numpy as np\n",
        "\n",
        "#criando dois arrays 2x2\n",
        "array1 = np.array([[1, 2 ], [3, 4]])\n",
        "array2 = np.array([[5, 6], [7, 8]])\n",
        "\n",
        "#efetuando as operações\n",
        "soma = array1 + array2\n",
        "subtracao = array1 - array2\n",
        "multiplicacao = array1 * array2\n",
        "\n",
        "print(\"Array 1:\")\n",
        "print(array1)\n",
        "\n",
        "print(\"Array 2:\")\n",
        "print(array2)\n",
        "\n",
        "print(\"Soma:\")\n",
        "print(soma)\n",
        "\n",
        "print(\"Subtração:\")\n",
        "print(subtracao)\n",
        "\n",
        "print(\"Multiplicação:\")\n",
        "print(multiplicacao)\n"
      ],
      "metadata": {
        "colab": {
          "base_uri": "https://localhost:8080/"
        },
        "id": "uUcmHbW1uCBy",
        "outputId": "8e3750f4-aa8b-4d8a-d0b3-d67ed0f1e431"
      },
      "execution_count": 8,
      "outputs": [
        {
          "output_type": "stream",
          "name": "stdout",
          "text": [
            "Array 1:\n",
            "[[1 2]\n",
            " [3 4]]\n",
            "Array 2:\n",
            "[[5 6]\n",
            " [7 8]]\n",
            "Soma:\n",
            "[[ 6  8]\n",
            " [10 12]]\n",
            "Subtração:\n",
            "[[-4 -4]\n",
            " [-4 -4]]\n",
            "Multiplicação:\n",
            "[[ 5 12]\n",
            " [21 32]]\n"
          ]
        }
      ]
    },
    {
      "cell_type": "markdown",
      "source": [
        "4. Fatiamento de arrays."
      ],
      "metadata": {
        "id": "ibD58xCDvgPJ"
      }
    },
    {
      "cell_type": "code",
      "source": [
        "import numpy as np\n",
        "\n",
        "#criando uma array 4x4\n",
        "array = np.array([[1, 2, 3, 4], [5, 6, 7, 8], [9, 10, 11, 12], [13, 14, 15, 16]])\n",
        "\n",
        "#obter o subarray 2x2\n",
        "subarray = array [:2, :2]\n",
        "print(\"Subarray:\")\n",
        "print(subarray)\n",
        "\n"
      ],
      "metadata": {
        "colab": {
          "base_uri": "https://localhost:8080/"
        },
        "id": "95Ch5pMbvkum",
        "outputId": "67c17d64-ad14-4392-9f14-eaecf016850a"
      },
      "execution_count": 9,
      "outputs": [
        {
          "output_type": "stream",
          "name": "stdout",
          "text": [
            "Subarray:\n",
            "[[1 2]\n",
            " [5 6]]\n"
          ]
        }
      ]
    },
    {
      "cell_type": "markdown",
      "source": [
        "5. Transposição de arrays"
      ],
      "metadata": {
        "id": "n-Q94eWhy2do"
      }
    },
    {
      "cell_type": "code",
      "source": [
        "import numpy as np\n",
        "\n",
        "#criando uma array 3x2\n",
        "array = np.array([[1,2], [3,4], [5,6]])\n",
        "\n",
        "#calcular a transposta\n",
        "transposta = np.transpose(array)\n",
        "print(\"Transposta:\\n\", transposta)\n"
      ],
      "metadata": {
        "colab": {
          "base_uri": "https://localhost:8080/"
        },
        "id": "L9kSHwGJzFA5",
        "outputId": "912d61d1-c6f9-4559-812a-0e6ca2d34a9a"
      },
      "execution_count": 11,
      "outputs": [
        {
          "output_type": "stream",
          "name": "stdout",
          "text": [
            "Transposta:\n",
            " [[1 3 5]\n",
            " [2 4 6]]\n"
          ]
        }
      ]
    },
    {
      "cell_type": "markdown",
      "source": [
        "6. Gerando matrizes de identidade."
      ],
      "metadata": {
        "id": "ka2nLYwN1Hd1"
      }
    },
    {
      "cell_type": "code",
      "source": [
        "import numpy as np\n",
        "\n",
        "#criar uma matriz de indentidade 4x4\n",
        "matriz_indentidade = np.eye(4)\n",
        "print(\"Matriz de Identidade:\")\n",
        "print(matriz_indentidade)"
      ],
      "metadata": {
        "colab": {
          "base_uri": "https://localhost:8080/"
        },
        "id": "fQSdbBsp1Mij",
        "outputId": "1866c19a-9947-4d74-a945-168839868dfa"
      },
      "execution_count": 12,
      "outputs": [
        {
          "output_type": "stream",
          "name": "stdout",
          "text": [
            "Matriz de Identidade:\n",
            "[[1. 0. 0. 0.]\n",
            " [0. 1. 0. 0.]\n",
            " [0. 0. 1. 0.]\n",
            " [0. 0. 0. 1.]]\n"
          ]
        }
      ]
    },
    {
      "cell_type": "markdown",
      "source": [
        "7. Resolução de sistemas lineares."
      ],
      "metadata": {
        "id": "n4cdivJT2Gmu"
      }
    },
    {
      "cell_type": "code",
      "source": [
        "import numpy as np\n",
        "\n",
        "# coenficientes das equações\n",
        "A = np.array([[2,1], [1,3]])\n",
        "#resultados das equações\n",
        "B = np.array([5,7])\n",
        "\n",
        "#resolver s sistema\n",
        "solucao = np.linalg.solve(A,B)\n",
        "print(\"Solução do sistema:\")\n",
        "print(solucao)"
      ],
      "metadata": {
        "colab": {
          "base_uri": "https://localhost:8080/"
        },
        "id": "Uesufilq2KoE",
        "outputId": "48e418de-37d1-4fea-ecda-4b6fe234216a"
      },
      "execution_count": 14,
      "outputs": [
        {
          "output_type": "stream",
          "name": "stdout",
          "text": [
            "Solução do sistema:\n",
            "[1.6 1.8]\n"
          ]
        }
      ]
    },
    {
      "cell_type": "markdown",
      "source": [
        "8. Média e Desvio Padrão"
      ],
      "metadata": {
        "id": "8fyE0E5Q3OSF"
      }
    },
    {
      "cell_type": "code",
      "source": [
        "import numpy as np\n",
        "\n",
        "#criar um array de 10 números aleatórios\n",
        "array = np.random.rand(10)\n",
        "print(\"Array Original:\")\n",
        "print(array)\n",
        "\n",
        "#calcular média\n",
        "media = np.mean(array)\n",
        "print(\"Média\", media)\n",
        "\n",
        "#calcular o desvio padrão\n",
        "desvio_padrao = np.std(array)\n",
        "print(\"Desvio padrão\", desvio_padrao)\n"
      ],
      "metadata": {
        "colab": {
          "base_uri": "https://localhost:8080/"
        },
        "id": "mOVOd3d03Stv",
        "outputId": "d29ee226-9a54-4dee-addc-2c003f5ae9a9"
      },
      "execution_count": 15,
      "outputs": [
        {
          "output_type": "stream",
          "name": "stdout",
          "text": [
            "Array Original:\n",
            "[0.19848155 0.49022943 0.29465773 0.65396101 0.52104244 0.33200513\n",
            " 0.05758666 0.60289203 0.83758085 0.49582474]\n",
            "Média 0.44842615769072725\n",
            "Desvio padrão 0.21891535589143313\n"
          ]
        }
      ]
    },
    {
      "cell_type": "markdown",
      "source": [
        "9. Geração com linspace"
      ],
      "metadata": {
        "id": "rnGbQNOBp1fJ"
      }
    },
    {
      "cell_type": "code",
      "source": [
        "import numpy as np\n",
        "\n",
        "#gerar um array de 50 valores entre 0 e 10\n",
        "array = np.linspace(0, 10, 50)\n",
        "print(\"Array de 50 valores entre 0 e 10:\", array)"
      ],
      "metadata": {
        "colab": {
          "base_uri": "https://localhost:8080/"
        },
        "id": "8Is7BM0Mp8sD",
        "outputId": "06a36461-dfcd-4cf3-a5a8-e60e5f2600e7"
      },
      "execution_count": 1,
      "outputs": [
        {
          "output_type": "stream",
          "name": "stdout",
          "text": [
            "Array de 50 valores entre 0 e 10: [ 0.          0.20408163  0.40816327  0.6122449   0.81632653  1.02040816\n",
            "  1.2244898   1.42857143  1.63265306  1.83673469  2.04081633  2.24489796\n",
            "  2.44897959  2.65306122  2.85714286  3.06122449  3.26530612  3.46938776\n",
            "  3.67346939  3.87755102  4.08163265  4.28571429  4.48979592  4.69387755\n",
            "  4.89795918  5.10204082  5.30612245  5.51020408  5.71428571  5.91836735\n",
            "  6.12244898  6.32653061  6.53061224  6.73469388  6.93877551  7.14285714\n",
            "  7.34693878  7.55102041  7.75510204  7.95918367  8.16326531  8.36734694\n",
            "  8.57142857  8.7755102   8.97959184  9.18367347  9.3877551   9.59183673\n",
            "  9.79591837 10.        ]\n"
          ]
        }
      ]
    },
    {
      "cell_type": "markdown",
      "source": [
        "10. Ordenação de array."
      ],
      "metadata": {
        "id": "h0L_eb1IrSF5"
      }
    },
    {
      "cell_type": "code",
      "source": [
        "import numpy as np\n",
        "\n",
        "#criar um array com 10 números aleatórios\n",
        "array = np.random.rand(10)\n",
        "\n",
        "#ordernar o array\n",
        "array_ordenado = np.sort(array)\n",
        "print(\"Array Original:\", array)\n",
        "print(\"Array Ordenado:\", array_ordenado)\n",
        "\n"
      ],
      "metadata": {
        "colab": {
          "base_uri": "https://localhost:8080/"
        },
        "id": "2qU9KSesrkXA",
        "outputId": "01c7beea-587e-4767-cac5-885c526014f5"
      },
      "execution_count": 2,
      "outputs": [
        {
          "output_type": "stream",
          "name": "stdout",
          "text": [
            "Array Original: [0.06862115 0.37410093 0.13563364 0.2916701  0.37870647 0.03850513\n",
            " 0.90193027 0.7116304  0.18277685 0.91351499]\n",
            "Array Ordenado: [0.03850513 0.06862115 0.13563364 0.18277685 0.2916701  0.37410093\n",
            " 0.37870647 0.7116304  0.90193027 0.91351499]\n"
          ]
        }
      ]
    }
  ]
}